{
 "cells": [
  {
   "cell_type": "markdown",
   "metadata": {},
   "source": [
    "<center><h1> **প্রজেক্ট বিস্তারিত **</h1></center>\n",
    "\n",
    "অতি  ছো্ট এবং আমার একান্তই শখের প্রজেক্ট ।  সাকিব মাঠে নেই কিন্তু তাকে ঘিরে ইন্টারেস্ট তো কম নেই কারো । \n",
    "কিছুদিনের ভেতরেই সাকিব আন্তর্জাতিক ক্রিকেটে ফিরবে ইনশাআল্লাহ । তো চিন্তা করলাম সাকিব এর আসলে ক্যারিয়ার স্ট্যাটিক্সটা কিরকম? সে কোন দলগুলোর সাথে রান বেশি করেছে?\n",
    "কোন দল গুলোর বিপক্ষে রান কম করেছে? কাদের সাথে উইকেট বেশি পেলো, কাদের বিপক্ষে কম?\n",
    "দেশের মাটিতে তার পারফর্ম্যান্স কেমন? বিদেশেই বা সে কতোটা ভালো করলো? আসা করি এই প্রজেক্টে তার একটা সুন্দর ধারনা পেয়ে যাবেন । সাথে ডেটা সাইন্সের বেসিক আয়ত্ব হয়ে যাবে ।"
   ]
  },
  {
   "cell_type": "markdown",
   "metadata": {},
   "source": [
    "<center><h1>**ডেটা কালেকশন প্রসেস **</h1></center>\n",
    "\n",
    "\n",
    "এখানে আমরা ওয়েব স্ক্রাপিং করে সাকিব আল হাসানের ওয়ানডে ক্রিকেট হিস্টোরি ম্যাচ বাই ম্যাচ তুলে নিয়ে আসবো ইসপিএন ক্রিকইনফো তে তার প্রোফাইল থেকে । ডেটাসেট বের করার অন্যতম বড় ওয়ে হচ্ছে ওয়েব স্ক্রাপিং । এটিই আমার প্রথম ওয়েব স্ক্রাপিং । এইখানে আমি যেভাবে করেছি সেটা বেস্ট এপ্রোচ না । রেগুলার এক্সপ্রেশন এবং বিউটিফুল সুপের অনেক ফাংশনালিটি ইউজ করে আরো সুন্দর করে করা যায় ।আমি হলাম অলস মানুষ । যত সহজে করতে পারি আরকি! 🤣"
   ]
  },
  {
   "cell_type": "markdown",
   "metadata": {},
   "source": [
    "প্রথমেই আমাদের দরকারি লাইব্রেরী গুলো ইমপোর্ট করে নেই । \n",
    "<p>pandas দিয়ে আমরা ডেটাফ্রেম লোড করবো । এবং পরবর্তী ডেটা প্রসেসিং, ভিজুয়ালাইজেশন, মডেল ট্রেইনিং ইত্যাদি করবো ।</p>\n",
    "<p>numpy দিয়ে আমরা ২ডি লিস্ট ক্রিয়েট করা থেকে অনেক ধরনের কাজে লাগাতে পারবো । যেমন ধরেন মিন, মিডিয়ান, মোড ইত্যাদি । </p>\n",
    "<p>matplotlib টোটালি ডেটা ভিজুয়ালাইজ করার জন্য । </p>\n",
    "<p>seaborn একই কাজ করবে । এইটা matplotlib এর আপডেটেড ভার্সনও বলা চলে । </p>\n",
    "<p>BeautifulSoup হচ্ছে ওয়েব স্ক্রাপিং এর জন্য । এইটা দিয়েই আমরা ওয়েব থেকে ডেটা স্ক্রাপ করে নিয়ে আসবো । </p>\n",
    "<p>requests দিয়ে আমরা নির্দিষ্ট লিংকে রিকুয়েস্ট পাঠাবো ডেটা কালেকশনের জন্য । </p>\n",
    "\n",
    "এগুলোর বিস্তারিত ইউজ পরে দেখতে পারবেন এখানে । সো কিপ কন্টিনিউইং!"
   ]
  },
  {
   "cell_type": "code",
   "execution_count": 1,
   "metadata": {},
   "outputs": [],
   "source": [
    "import pandas as pd\n",
    "import numpy as np\n",
    "import matplotlib.pyplot as plt\n",
    "import seaborn as sns\n",
    "%matplotlib inline\n",
    "from bs4 import BeautifulSoup\n",
    "import requests\n",
    "import warnings\n",
    "warnings.filterwarnings(\"ignore\")"
   ]
  },
  {
   "cell_type": "markdown",
   "metadata": {},
   "source": [
    "রিকুয়েস্ট পাঠালাম আমাদের কাঙ্ক্ষিত লিংক URL এ"
   ]
  },
  {
   "cell_type": "code",
   "execution_count": 2,
   "metadata": {},
   "outputs": [],
   "source": [
    "data = requests.get(\"https://stats.espncricinfo.com/ci/engine/player/56143.html?class=2;template=results;type=allround;view=match\")"
   ]
  },
  {
   "cell_type": "markdown",
   "metadata": {},
   "source": [
    "তো এই হলো আমাদের ডেটা । এখানে আমাদের শুধু টেবিলের ডেটা গুলো নিয়ে আসলেই চলবে । \n",
    "তাই আমরা এখানে টেবিল এর ডেটা নিয়ে আসার ট্রাই করবো । \n",
    "ডেটা টেবিলে কি কি আছে দেখা যাক !\n",
    "<p>Bat1- ঐ ম্যাচে কত রান করলো </p>\n",
    "<p>Wkts- ঐ ম্যাচের উইকেট সংখ্যা </p>\n",
    "<p>Conc- ঐ ম্যাচে বোলিং এ কতো রান দিলো । </p>\n",
    "<p>Ct-ঐ ম্যাচে কয়টি ক্যাচ ধরলো </p>\n",
    "<p>St-ঐ ম্যাচে কয়টি স্ট্যাম্পিং করলো</p>\n",
    "<p>Opposition-বিপক্ষ দল </p>\n",
    "<p>Ground-কোন মাঠে খেলা হলো</p>\n",
    "<p>Start Date-কবে খেলা হলো </p>\n",
    "<p>ফাকা কলাম নেম- আন্তর্জাতিক কত তম ম্যাচ</p>\n",
    "\n",
    "\n",
    "<img src=\"Shakib.PNG\">"
   ]
  },
  {
   "cell_type": "markdown",
   "metadata": {},
   "source": [
    "আমরা যদি ব্রাউজারে ইন্সপেক্ট এলিমেন্ট দেখি তাহলে দেখতে পাবো এই টেবিলের ডেটা গুলো সব  td নামক ট্যাগের ভিতরে আছে \n",
    "তাহলে আমরা এই ট্যাগ ধরে এই ট্যাগের সকল ডেটা পার্স করে নিয়ে আসি । \n",
    "<img src=\"Table.JPG\">"
   ]
  },
  {
   "cell_type": "code",
   "execution_count": 3,
   "metadata": {},
   "outputs": [],
   "source": [
    "MLBsoup = BeautifulSoup(data.text, 'html.parser')\n",
    "ABSoup = MLBsoup.select('td')\n",
    "AbSoup = BeautifulSoup((\"\".join(str(x) for x in ABSoup)), 'html.parser') \n",
    "AbSoup = AbSoup.find_all(text=True)\n",
    "Ab = AbSoup[32:2092]\n",
    "with open('x.txt', 'w') as f:\n",
    "    for item in Ab:\n",
    "        f.write(\"%s\\n\" % item)\n"
   ]
  },
  {
   "cell_type": "markdown",
   "metadata": {},
   "source": [
    "MLBsoup এই ভ্যারিয়েবলে আমার এই পেজের সব ডেটা চলে এসেছে । \n",
    "ABSoup  এই ভ্যারিয়েবলে আমার এই পেজের td ট্যাগের সব ডেটা চলে এসেছে । যেটা আমি এক্সেস করেছি MLBsoup ভ্যারিয়েবল থেকে ।\n",
    "এবার আমি ABSoup এ টেক্সট আকারে যা যা ডেটা আছে তা জয়েন করে রেখেছি AbSoup ভ্যারিয়েবলে এবং তা পার্স করে রেখেছি । \n",
    "তার পর আমি  AbSoup এ যা যা আছে তা সবকিছু আবার টেক্সট আকারে করেছি । যাতে আমি ভ্যালুগুলি দিয়ে লিস্ট বানাতে পারি । \n",
    "Ab = AbSoup[32:2092] এই লাইনে আসলে আমি ৩২ ইন্ডেক্স থেকে ২০৯২ ইন্ডেক্স পর্যন্ত রেখেছি । কারণ বাকিগুলো আমার দরকারের বাইরে ।\n",
    "ইন্ডেক্সের ২০৯২ নাম্বার ভ্যালুটি হলো  \"ODI # 4186\" মানে যে পর্যন্ত আমার দরকার । \n",
    "<p>with open('x.txt', 'w') as f:</p>\n",
    "<p><t>    for item in Ab:</p>\n",
    "<p><t>        f.write(\"%s\\n\" % item)</p>\n",
    "এখানে আমি নর্মালি চেক করে দেখলাম যে আমার দরকার মতো ডেটা আমি পাচ্ছি কিনা । তা একটা টেক্সট ফাইলে জমা করে দেখলাম ।"
   ]
  },
  {
   "cell_type": "code",
   "execution_count": 4,
   "metadata": {},
   "outputs": [],
   "source": [
    "P_Data = np.array(Ab).reshape(206,10)\n",
    "df = pd.DataFrame({'Run': P_Data[:, 0], 'Wicket': P_Data[:, 1], 'Run_Conceded': P_Data[:, 2], 'Catch': P_Data[:, 3], 'Stumping': P_Data[:, 4], \n",
    "                   'Vs': P_Data[:, 5],'Opposition': P_Data[:, 6], 'Ground': P_Data[:, 7],'Date': P_Data[:, 8], 'I_ODI': P_Data[:, 9]})\n"
   ]
  },
  {
   "cell_type": "markdown",
   "metadata": {},
   "source": [
    "এবার আমি একটা নাম্পাই 2D list বানাবো যাতে আমি ঐ লিস্ট ডেটাফ্রেমে পাস করতে পারি । এখানে লক্ষ করে দেখবেন প্রতিটা টেবিল রো তে ১০ টি করে ভ্যালু আছে । \n",
    "যেমন প্রথম রো তে,\n",
    "<p>১\t২\t৩\t৪\t৫\t৬\t৭\t\t৮\t৯\t\t১০ </p>\n",
    "<p>30*\t1\t39\t0\t0\tv \tZimbabwe\tHarare\t6 Aug 2006\tODI # 2398</p>\n",
    "\n",
    "তাহলে এবার আমরা এই অনুযায়ী আমাদের ডেটাফ্রেম ক্রিয়েট করে ফেলি ।"
   ]
  },
  {
   "cell_type": "code",
   "execution_count": 8,
   "metadata": {},
   "outputs": [
    {
     "data": {
      "text/html": [
       "<div>\n",
       "<style scoped>\n",
       "    .dataframe tbody tr th:only-of-type {\n",
       "        vertical-align: middle;\n",
       "    }\n",
       "\n",
       "    .dataframe tbody tr th {\n",
       "        vertical-align: top;\n",
       "    }\n",
       "\n",
       "    .dataframe thead th {\n",
       "        text-align: right;\n",
       "    }\n",
       "</style>\n",
       "<table border=\"1\" class=\"dataframe\">\n",
       "  <thead>\n",
       "    <tr style=\"text-align: right;\">\n",
       "      <th></th>\n",
       "      <th>Run</th>\n",
       "      <th>Wicket</th>\n",
       "      <th>Run_Conceded</th>\n",
       "      <th>Catch</th>\n",
       "      <th>Stumping</th>\n",
       "      <th>Vs</th>\n",
       "      <th>Opposition</th>\n",
       "      <th>Ground</th>\n",
       "      <th>Date</th>\n",
       "      <th>I_ODI</th>\n",
       "    </tr>\n",
       "  </thead>\n",
       "  <tbody>\n",
       "    <tr>\n",
       "      <th>0</th>\n",
       "      <td>30*</td>\n",
       "      <td>1</td>\n",
       "      <td>39</td>\n",
       "      <td>0</td>\n",
       "      <td>0</td>\n",
       "      <td>v</td>\n",
       "      <td>Zimbabwe</td>\n",
       "      <td>Harare</td>\n",
       "      <td>6 Aug 2006</td>\n",
       "      <td>ODI # 2398</td>\n",
       "    </tr>\n",
       "    <tr>\n",
       "      <th>1</th>\n",
       "      <td>20</td>\n",
       "      <td>2</td>\n",
       "      <td>32</td>\n",
       "      <td>0</td>\n",
       "      <td>0</td>\n",
       "      <td>v</td>\n",
       "      <td>Kenya</td>\n",
       "      <td>Nairobi (Gym)</td>\n",
       "      <td>12 Aug 2006</td>\n",
       "      <td>ODI # 2402</td>\n",
       "    </tr>\n",
       "    <tr>\n",
       "      <th>2</th>\n",
       "      <td>13</td>\n",
       "      <td>1</td>\n",
       "      <td>26</td>\n",
       "      <td>0</td>\n",
       "      <td>0</td>\n",
       "      <td>v</td>\n",
       "      <td>Kenya</td>\n",
       "      <td>Nairobi (Gym)</td>\n",
       "      <td>13 Aug 2006</td>\n",
       "      <td>ODI # 2403</td>\n",
       "    </tr>\n",
       "    <tr>\n",
       "      <th>3</th>\n",
       "      <td>25*</td>\n",
       "      <td>0</td>\n",
       "      <td>28</td>\n",
       "      <td>0</td>\n",
       "      <td>0</td>\n",
       "      <td>v</td>\n",
       "      <td>Kenya</td>\n",
       "      <td>Nairobi (Gym)</td>\n",
       "      <td>15 Aug 2006</td>\n",
       "      <td>ODI # 2404</td>\n",
       "    </tr>\n",
       "    <tr>\n",
       "      <th>4</th>\n",
       "      <td>67*</td>\n",
       "      <td>0</td>\n",
       "      <td>23</td>\n",
       "      <td>0</td>\n",
       "      <td>0</td>\n",
       "      <td>v</td>\n",
       "      <td>Sri Lanka</td>\n",
       "      <td>Mohali</td>\n",
       "      <td>7 Oct 2006</td>\n",
       "      <td>ODI # 2423</td>\n",
       "    </tr>\n",
       "  </tbody>\n",
       "</table>\n",
       "</div>"
      ],
      "text/plain": [
       "   Run Wicket Run_Conceded Catch Stumping  Vs Opposition         Ground  \\\n",
       "0  30*      1           39     0        0  v    Zimbabwe         Harare   \n",
       "1   20      2           32     0        0  v       Kenya  Nairobi (Gym)   \n",
       "2   13      1           26     0        0  v       Kenya  Nairobi (Gym)   \n",
       "3  25*      0           28     0        0  v       Kenya  Nairobi (Gym)   \n",
       "4  67*      0           23     0        0  v   Sri Lanka         Mohali   \n",
       "\n",
       "          Date       I_ODI  \n",
       "0   6 Aug 2006  ODI # 2398  \n",
       "1  12 Aug 2006  ODI # 2402  \n",
       "2  13 Aug 2006  ODI # 2403  \n",
       "3  15 Aug 2006  ODI # 2404  \n",
       "4   7 Oct 2006  ODI # 2423  "
      ]
     },
     "execution_count": 8,
     "metadata": {},
     "output_type": "execute_result"
    }
   ],
   "source": [
    "df.head()"
   ]
  },
  {
   "cell_type": "markdown",
   "metadata": {},
   "source": [
    "এই হলো আমাদের ডেটা ফ্রেমের প্রথম ৫ টি ডেটা । \n",
    "একবার ডেটা পাওয়ার পরে আমরা আর বারবার ডেটা লোড দিবো না ওয়েবপেজ থেকে । তাই আমরা csv ফরম্যাটে ডেটা সেভ করে রাখবো । "
   ]
  },
  {
   "cell_type": "code",
   "execution_count": 9,
   "metadata": {},
   "outputs": [],
   "source": [
    "df.to_csv(\"Data.csv\",index=False)"
   ]
  },
  {
   "cell_type": "markdown",
   "metadata": {},
   "source": [
    "এখন টেস্ট করে দেখি আমাদের সিএসভি ফাইলটি লোড করে ঠিক আছে কিনা । "
   ]
  },
  {
   "cell_type": "code",
   "execution_count": 10,
   "metadata": {},
   "outputs": [
    {
     "data": {
      "text/html": [
       "<div>\n",
       "<style scoped>\n",
       "    .dataframe tbody tr th:only-of-type {\n",
       "        vertical-align: middle;\n",
       "    }\n",
       "\n",
       "    .dataframe tbody tr th {\n",
       "        vertical-align: top;\n",
       "    }\n",
       "\n",
       "    .dataframe thead th {\n",
       "        text-align: right;\n",
       "    }\n",
       "</style>\n",
       "<table border=\"1\" class=\"dataframe\">\n",
       "  <thead>\n",
       "    <tr style=\"text-align: right;\">\n",
       "      <th></th>\n",
       "      <th>Run</th>\n",
       "      <th>Wicket</th>\n",
       "      <th>Run_Conceded</th>\n",
       "      <th>Catch</th>\n",
       "      <th>Stumping</th>\n",
       "      <th>Vs</th>\n",
       "      <th>Opposition</th>\n",
       "      <th>Ground</th>\n",
       "      <th>Date</th>\n",
       "      <th>I_ODI</th>\n",
       "    </tr>\n",
       "  </thead>\n",
       "  <tbody>\n",
       "    <tr>\n",
       "      <th>0</th>\n",
       "      <td>30*</td>\n",
       "      <td>1</td>\n",
       "      <td>39</td>\n",
       "      <td>0</td>\n",
       "      <td>0</td>\n",
       "      <td>v</td>\n",
       "      <td>Zimbabwe</td>\n",
       "      <td>Harare</td>\n",
       "      <td>6 Aug 2006</td>\n",
       "      <td>ODI # 2398</td>\n",
       "    </tr>\n",
       "    <tr>\n",
       "      <th>1</th>\n",
       "      <td>20</td>\n",
       "      <td>2</td>\n",
       "      <td>32</td>\n",
       "      <td>0</td>\n",
       "      <td>0</td>\n",
       "      <td>v</td>\n",
       "      <td>Kenya</td>\n",
       "      <td>Nairobi (Gym)</td>\n",
       "      <td>12 Aug 2006</td>\n",
       "      <td>ODI # 2402</td>\n",
       "    </tr>\n",
       "    <tr>\n",
       "      <th>2</th>\n",
       "      <td>13</td>\n",
       "      <td>1</td>\n",
       "      <td>26</td>\n",
       "      <td>0</td>\n",
       "      <td>0</td>\n",
       "      <td>v</td>\n",
       "      <td>Kenya</td>\n",
       "      <td>Nairobi (Gym)</td>\n",
       "      <td>13 Aug 2006</td>\n",
       "      <td>ODI # 2403</td>\n",
       "    </tr>\n",
       "    <tr>\n",
       "      <th>3</th>\n",
       "      <td>25*</td>\n",
       "      <td>0</td>\n",
       "      <td>28</td>\n",
       "      <td>0</td>\n",
       "      <td>0</td>\n",
       "      <td>v</td>\n",
       "      <td>Kenya</td>\n",
       "      <td>Nairobi (Gym)</td>\n",
       "      <td>15 Aug 2006</td>\n",
       "      <td>ODI # 2404</td>\n",
       "    </tr>\n",
       "    <tr>\n",
       "      <th>4</th>\n",
       "      <td>67*</td>\n",
       "      <td>0</td>\n",
       "      <td>23</td>\n",
       "      <td>0</td>\n",
       "      <td>0</td>\n",
       "      <td>v</td>\n",
       "      <td>Sri Lanka</td>\n",
       "      <td>Mohali</td>\n",
       "      <td>7 Oct 2006</td>\n",
       "      <td>ODI # 2423</td>\n",
       "    </tr>\n",
       "  </tbody>\n",
       "</table>\n",
       "</div>"
      ],
      "text/plain": [
       "   Run Wicket Run_Conceded Catch Stumping  Vs Opposition         Ground  \\\n",
       "0  30*      1           39     0        0  v    Zimbabwe         Harare   \n",
       "1   20      2           32     0        0  v       Kenya  Nairobi (Gym)   \n",
       "2   13      1           26     0        0  v       Kenya  Nairobi (Gym)   \n",
       "3  25*      0           28     0        0  v       Kenya  Nairobi (Gym)   \n",
       "4  67*      0           23     0        0  v   Sri Lanka         Mohali   \n",
       "\n",
       "          Date       I_ODI  \n",
       "0   6 Aug 2006  ODI # 2398  \n",
       "1  12 Aug 2006  ODI # 2402  \n",
       "2  13 Aug 2006  ODI # 2403  \n",
       "3  15 Aug 2006  ODI # 2404  \n",
       "4   7 Oct 2006  ODI # 2423  "
      ]
     },
     "execution_count": 10,
     "metadata": {},
     "output_type": "execute_result"
    }
   ],
   "source": [
    "df = pd.read_csv(\"Data.csv\")\n",
    "df.head()"
   ]
  },
  {
   "cell_type": "markdown",
   "metadata": {},
   "source": [
    "<center><h1>**ডেটা ভিজুয়ালাইজেশন **</h1></center>\n",
    "\n",
    "এখন আমাদের ডেটাসেট এর ডেটা ভিজুয়ালাইজ করে দেখি তাদের ভিতরে সম্পর্ক কিরকম এবং কি টাইপের । "
   ]
  },
  {
   "cell_type": "code",
   "execution_count": 11,
   "metadata": {},
   "outputs": [
    {
     "data": {
      "text/plain": [
       "Run             object\n",
       "Wicket          object\n",
       "Run_Conceded    object\n",
       "Catch           object\n",
       "Stumping        object\n",
       "Vs              object\n",
       "Opposition      object\n",
       "Ground          object\n",
       "Date            object\n",
       "I_ODI           object\n",
       "dtype: object"
      ]
     },
     "execution_count": 11,
     "metadata": {},
     "output_type": "execute_result"
    }
   ],
   "source": [
    "df.dtypes"
   ]
  },
  {
   "cell_type": "markdown",
   "metadata": {},
   "source": [
    "ডেটা ভিজুয়ালাইজ করার আগে আমাদের ডেটাকে একটু ঝালিয়ে নিতে হবে । কারণ এখানে কিছু ডেটাতে প্রবলেম আছে । \n",
    "যেমন যে ম্যাচে সাকিব ব্যাট করেনি সেখানে রানের জায়গায় দেয়া DNB মানে Did Not Bat । এইরকম সব প্রবলেম গুলী সল্ভ করবো এখন । "
   ]
  },
  {
   "cell_type": "code",
   "execution_count": 12,
   "metadata": {},
   "outputs": [
    {
     "data": {
      "text/plain": [
       "Run             float64\n",
       "Wicket           object\n",
       "Run_Conceded     object\n",
       "Catch            object\n",
       "Stumping         object\n",
       "Vs               object\n",
       "Opposition       object\n",
       "Ground           object\n",
       "Date             object\n",
       "I_ODI            object\n",
       "dtype: object"
      ]
     },
     "execution_count": 12,
     "metadata": {},
     "output_type": "execute_result"
    }
   ],
   "source": [
    "to_replace = ['DNB','TDNB','absent']\n",
    "for i in to_replace:\n",
    "    df['Run'] = df['Run'].replace(i,np.nan)\n",
    "\n",
    "df['Run'] = df['Run'].str.replace('*','')\n",
    "df['Run'] = pd.to_numeric(df['Run'] )\n",
    "df.dtypes"
   ]
  },
  {
   "cell_type": "markdown",
   "metadata": {},
   "source": [
    "তো আমাদের রান কলামের খেলা শেষ । এবার বাকি কলাম গুলির পালা । "
   ]
  },
  {
   "cell_type": "code",
   "execution_count": 13,
   "metadata": {},
   "outputs": [
    {
     "data": {
      "text/plain": [
       "Run             float64\n",
       "Wicket          float64\n",
       "Run_Conceded    float64\n",
       "Catch           float64\n",
       "Stumping        float64\n",
       "Vs               object\n",
       "Opposition       object\n",
       "Ground           object\n",
       "Date             object\n",
       "I_ODI            object\n",
       "dtype: object"
      ]
     },
     "execution_count": 13,
     "metadata": {},
     "output_type": "execute_result"
    }
   ],
   "source": [
    "df = df.replace('-',np.nan)\n",
    "df['Wicket'] = pd.to_numeric(df['Wicket'] )\n",
    "df['Run_Conceded'] = pd.to_numeric(df['Run_Conceded'] )\n",
    "df['Catch'] = pd.to_numeric(df['Catch'] )\n",
    "df['Stumping'] = pd.to_numeric(df['Stumping'] )\n",
    "df.dtypes"
   ]
  },
  {
   "cell_type": "markdown",
   "metadata": {},
   "source": [
    "এবার ওডিয়াই নাম্বারের ফরম্যাটটা দেখা যাক । \n",
    "ODI # 2398\n",
    "তো এখান থেকে আমার শুধু লাস্ট চারটা ক্যারেক্টার নিয়ে ইন্টিজারে কনভার্ট করলেই হবে ।"
   ]
  },
  {
   "cell_type": "code",
   "execution_count": 14,
   "metadata": {},
   "outputs": [
    {
     "data": {
      "text/plain": [
       "Run             float64\n",
       "Wicket          float64\n",
       "Run_Conceded    float64\n",
       "Catch           float64\n",
       "Stumping        float64\n",
       "Vs               object\n",
       "Opposition       object\n",
       "Ground           object\n",
       "Date             object\n",
       "I_ODI             int64\n",
       "dtype: object"
      ]
     },
     "execution_count": 14,
     "metadata": {},
     "output_type": "execute_result"
    }
   ],
   "source": [
    "df['I_ODI'] = df['I_ODI'].str.replace('ODI #','')\n",
    "df['I_ODI'] = pd.to_numeric(df['I_ODI'] )\n",
    "df.dtypes"
   ]
  },
  {
   "cell_type": "markdown",
   "metadata": {},
   "source": [
    "এবার দেখে নেই নাল ভ্যালু কয়টি আছে তার ক্যারিয়ার স্ট্যাটিক্সে  ।"
   ]
  },
  {
   "cell_type": "code",
   "execution_count": 15,
   "metadata": {
    "scrolled": true
   },
   "outputs": [
    {
     "data": {
      "text/plain": [
       "Run             12\n",
       "Wicket           3\n",
       "Run_Conceded     3\n",
       "Catch            1\n",
       "Stumping         1\n",
       "Vs               0\n",
       "Opposition       0\n",
       "Ground           0\n",
       "Date             0\n",
       "I_ODI            0\n",
       "dtype: int64"
      ]
     },
     "execution_count": 15,
     "metadata": {},
     "output_type": "execute_result"
    }
   ],
   "source": [
    "df.isna().sum()"
   ]
  },
  {
   "cell_type": "markdown",
   "metadata": {},
   "source": [
    "বেশ কিছু নাল ভ্যালু আছে দেখা যাচ্ছে । এইগুলা ফিক্স করতে হবে । আমরা এখানে যে যে কলামে নাল ভ্যালু আছে সেই সেই কলামের নাল ভ্যালু গুলো সেই সেই কলামের মিডিয়ান দিয়ে ফিক্স করবো । "
   ]
  },
  {
   "cell_type": "code",
   "execution_count": 16,
   "metadata": {
    "scrolled": true
   },
   "outputs": [
    {
     "data": {
      "text/plain": [
       "Run             0\n",
       "Wicket          0\n",
       "Run_Conceded    0\n",
       "Catch           0\n",
       "Stumping        1\n",
       "Vs              0\n",
       "Opposition      0\n",
       "Ground          0\n",
       "Date            0\n",
       "I_ODI           0\n",
       "dtype: int64"
      ]
     },
     "execution_count": 16,
     "metadata": {},
     "output_type": "execute_result"
    }
   ],
   "source": [
    "Numerical = ['Run','Wicket','Run_Conceded','Catch','I_ODI']\n",
    "for n in Numerical:\n",
    "    df[n].fillna(df[n].median(),inplace=True) #inplace = True means it will replace the values in the dataframe permanently.\n",
    "df.isna().sum()"
   ]
  },
  {
   "cell_type": "markdown",
   "metadata": {},
   "source": [
    "তো আমাদের নাল ভ্যালু ফিক্স করা শেষ । এবার ডেটা ভিজুয়ালাইজ করি এবং সিধান্ত নেই । "
   ]
  },
  {
   "cell_type": "code",
   "execution_count": 17,
   "metadata": {
    "scrolled": true
   },
   "outputs": [
    {
     "data": {
      "image/png": "[encoded data removed]",
      "text/plain": [
       "<Figure size 576x360 with 1 Axes>"
      ]
     },
     "metadata": {
      "needs_background": "light"
     },
     "output_type": "display_data"
    }
   ],
   "source": [
    "plt.figure(figsize=(8,5))\n",
    "\n",
    "plot = sns.scatterplot(x=df[\"Wicket\"],\n",
    "                       y=df[\"Catch\"])"
   ]
  },
  {
   "cell_type": "markdown",
   "metadata": {},
   "source": [
    "তো দেখা যাচ্ছে উইকেটের সাথে তেমন কোন সম্পর্ক নেই বললেই চলে ক্যাচের ! অর্থাৎ সাকিব যে ম্যাচে ক্যাচ ধরেছে সেই ম্যাচে সে উইকেট পেয়েছে এমন কোন নিশ্চয়তা নেই । "
   ]
  },
  {
   "cell_type": "code",
   "execution_count": 18,
   "metadata": {
    "scrolled": true
   },
   "outputs": [
    {
     "data": {
      "image/png": "[encoded data removed]",
      "text/plain": [
       "<Figure size 432x288 with 1 Axes>"
      ]
     },
     "metadata": {
      "needs_background": "light"
     },
     "output_type": "display_data"
    }
   ],
   "source": [
    "plot = sns.distplot(df[\"Run\"],\n",
    "                    hist=True)"
   ]
  },
  {
   "cell_type": "markdown",
   "metadata": {},
   "source": [
    "রানের ক্ষেত্রে দেখা যাচ্ছে সাকিব ০-২৫ রানের ভিতরে সবচেয়ে বেশি সংখ্যক বার আউট হয়েছেন । ভালো লাগলো না ব্যাপারটা !😒"
   ]
  },
  {
   "cell_type": "code",
   "execution_count": 19,
   "metadata": {
    "scrolled": true
   },
   "outputs": [
    {
     "data": {
      "image/png": "[encoded data removed]",
      "text/plain": [
       "<Figure size 432x288 with 1 Axes>"
      ]
     },
     "metadata": {
      "needs_background": "light"
     },
     "output_type": "display_data"
    }
   ],
   "source": [
    "plot = sns.distplot(df[\"Wicket\"],\n",
    "                    hist=True)"
   ]
  },
  {
   "cell_type": "markdown",
   "metadata": {},
   "source": [
    "উইকেটে দেখা যাচ্ছে সাকিব উইকেট শুন্য ছিলেন অনেক ম্যাচ । এবং ০-২ উইকেট পেয়েছেন বেশি ম্যাচে । অল্প কিছু ম্যাচে ৩ টি করে উইকেট পেয়েছেন । ৪ উইকেট তারও কম । ৫ উইকেটকে বলা চলে খুবই রেয়ার! "
   ]
  },
  {
   "cell_type": "code",
   "execution_count": 20,
   "metadata": {
    "scrolled": false
   },
   "outputs": [
    {
     "data": {
      "image/png": "[encoded data removed]",
      "text/plain": [
       "<Figure size 432x288 with 1 Axes>"
      ]
     },
     "metadata": {
      "needs_background": "light"
     },
     "output_type": "display_data"
    }
   ],
   "source": [
    "plot = sns.distplot(df[\"Run_Conceded\"],\n",
    "                    hist=True)"
   ]
  },
  {
   "cell_type": "markdown",
   "metadata": {},
   "source": [
    "সাকিবের প্রতিম্যাচে রান দেয়ার ডিস্ট্রিবিউশনটা বেশ নর্মাল দেখা যাচ্ছে । দেখা যাচ্ছে সাকিব ২৫-৫০ এর ভিতরে রান দিয়েছে ম্যাচ প্রতি সবচেয়ে বেশি । মানে বেশিরভাগ ম্যাচেই সে ২৫-৫০ রান কনসিড করতো ।"
   ]
  },
  {
   "cell_type": "code",
   "execution_count": 21,
   "metadata": {},
   "outputs": [
    {
     "data": {
      "image/png": "[encoded data removed]",
      "text/plain": [
       "<Figure size 432x432 with 3 Axes>"
      ]
     },
     "metadata": {
      "needs_background": "light"
     },
     "output_type": "display_data"
    }
   ],
   "source": [
    "plot = sns.jointplot(x=df[\"Run\"],\n",
    "                     y=df[\"Wicket\"],\n",
    "                     kind='reg')"
   ]
  },
  {
   "cell_type": "markdown",
   "metadata": {},
   "source": [
    "রানের সাথে উইকেটের একটা পজিটিভ সম্পর্ক দেখা যাচ্ছে । মানে যে ম্যাচে রান পেয়েছে সে ম্যাচে উইকেট পেয়েছে এমন একটা সম্পর্ক আছে । তবে সেইটা খুব একটা পজিটিভ না । কারণ এমনও অনেক ম্যাচ গেছে যেখানে সাকিব হয় রান পেয়েছে ভালো নয়তো উইকেট পেয়েছে ভালো । "
   ]
  },
  {
   "cell_type": "markdown",
   "metadata": {},
   "source": [
    "এবার একটা ওভার অল সম্পর্ক দেখি । কার সাথে কার সম্পর্ক কেমন । পজিটিভ নাকি নেগেটিভ । এটা দেখবো কোরিলেশন ম্যাট্রিক্স দিয়ে । "
   ]
  },
  {
   "cell_type": "code",
   "execution_count": 22,
   "metadata": {
    "scrolled": false
   },
   "outputs": [
    {
     "data": {
      "image/png": "[encoded data removed]",
      "text/plain": [
       "<Figure size 432x360 with 2 Axes>"
      ]
     },
     "metadata": {
      "needs_background": "light"
     },
     "output_type": "display_data"
    }
   ],
   "source": [
    "corr_mtx = df.corr()\n",
    "corr_mtx\n",
    "plt.figure(figsize=(6,5))\n",
    "plot = sns.heatmap(corr_mtx, annot=True, fmt=\".2f\")"
   ]
  },
  {
   "cell_type": "markdown",
   "metadata": {},
   "source": [
    "তো যা দেখা যাচ্ছে তা হলো রানের সাথে সবচেয়ে ভালো সম্পর্ক ইন্টারন্যাশন ওডিআই নাম্বারের সাথে । মানে যত বেশি সাকিব ম্যাচ খেলছে ততো ভালো তার পারফর্ম হচ্ছে । \n",
    "এর পরের সম্পর্কটা উইকেটের সাথে । উইকেট বেশি পেলে ভালো রান পাওয়ার সম্ভাবনা আছে । এর কারণটা কি বলতে পারেন? ধরেন যে ম্যাচে সাকিব উইকেট পেয়েছে সেখানে \n",
    "সে রান করতে পারে, কারণ উইকেট পাওয়াতে সে কনফিডেন্ট ছিলো । কিংবা যে ম্যাচে রান ভালো পেয়েছে সে ম্যাচে সে উইকেট নিতে পেরেছে কারণ রান করে সে উইকেট পাওয়ার \n",
    "ব্যাপারে কনফিডেন্ট ছিলো । উইকেটের সাথে রান কনসিডের একটা নেগেটিভ সম্পর্ক দেখা যাচ্ছে । মানে যে ম্যাচে সে বেশি রান দিয়েছে সে ম্যাচে তার উইকেট সংখ্যা কম ছিলো । \n",
    "আবার দেখা যাচ্ছে যতো সে সামনের দিকে আগাচ্ছে ততো তার রান কনসিড বেড়েছে । কারণ বর্তমানে পিচ গুলী ব্যাটিং পিচ হয় বেশি । তাই রান বেশি দিবে স্বাভাবিক । \n",
    "উইকেটের সাথে ক্যাচের একটা পজিটিভ সম্পর্ক আছে । মানে উইকেট পেলে সে ম্যাচে ক্যাচও ধরেছে সাকিব । আবার এটাও দেখা যাচ্ছে যে ম্যাচে সাকিব বেশি রান করেছে সে ম্যাচে সে \n",
    "বেশি রান দিয়েছেও । মোটামোটি অনেক ধারনাই পেয়ে গেলাম । তবে এখানে একটার সাথে আরেকটার সম্পর্ক খুবই দুর্বল । কারণ ক্রিকেটে আসলে কোনটার সাথে কোনটার সম্পর্কই নেই তেমন । \n",
    "শুধু শুধু তো ক্রিকেটকে ভাগ্যের খেলা বলে না!"
   ]
  },
  {
   "cell_type": "markdown",
   "metadata": {},
   "source": [
    "এখানে স্ট্যাম্পিং এর সাথে কারো কোন সম্পর্কই দেখা যাচ্ছে না । কেন বলেন তো? ভাবতে থাকেন । আমি ঐ কলাম ডিলেট করে দেয়ার চিন্তা করছি । কেন ডিলেট করতে যাচ্ছি সেটা মনে মনে ভাবেন । "
   ]
  },
  {
   "cell_type": "code",
   "execution_count": 23,
   "metadata": {},
   "outputs": [
    {
     "data": {
      "text/html": [
       "<div>\n",
       "<style scoped>\n",
       "    .dataframe tbody tr th:only-of-type {\n",
       "        vertical-align: middle;\n",
       "    }\n",
       "\n",
       "    .dataframe tbody tr th {\n",
       "        vertical-align: top;\n",
       "    }\n",
       "\n",
       "    .dataframe thead th {\n",
       "        text-align: right;\n",
       "    }\n",
       "</style>\n",
       "<table border=\"1\" class=\"dataframe\">\n",
       "  <thead>\n",
       "    <tr style=\"text-align: right;\">\n",
       "      <th></th>\n",
       "      <th>Run</th>\n",
       "      <th>Wicket</th>\n",
       "      <th>Run_Conceded</th>\n",
       "      <th>Catch</th>\n",
       "      <th>Stumping</th>\n",
       "      <th>Vs</th>\n",
       "      <th>Opposition</th>\n",
       "      <th>Ground</th>\n",
       "      <th>Date</th>\n",
       "      <th>I_ODI</th>\n",
       "    </tr>\n",
       "  </thead>\n",
       "  <tbody>\n",
       "    <tr>\n",
       "      <th>0</th>\n",
       "      <td>30.0</td>\n",
       "      <td>1.0</td>\n",
       "      <td>39.0</td>\n",
       "      <td>0.0</td>\n",
       "      <td>0.0</td>\n",
       "      <td>v</td>\n",
       "      <td>Zimbabwe</td>\n",
       "      <td>Harare</td>\n",
       "      <td>6 Aug 2006</td>\n",
       "      <td>2398</td>\n",
       "    </tr>\n",
       "    <tr>\n",
       "      <th>1</th>\n",
       "      <td>20.0</td>\n",
       "      <td>2.0</td>\n",
       "      <td>32.0</td>\n",
       "      <td>0.0</td>\n",
       "      <td>0.0</td>\n",
       "      <td>v</td>\n",
       "      <td>Kenya</td>\n",
       "      <td>Nairobi (Gym)</td>\n",
       "      <td>12 Aug 2006</td>\n",
       "      <td>2402</td>\n",
       "    </tr>\n",
       "    <tr>\n",
       "      <th>2</th>\n",
       "      <td>13.0</td>\n",
       "      <td>1.0</td>\n",
       "      <td>26.0</td>\n",
       "      <td>0.0</td>\n",
       "      <td>0.0</td>\n",
       "      <td>v</td>\n",
       "      <td>Kenya</td>\n",
       "      <td>Nairobi (Gym)</td>\n",
       "      <td>13 Aug 2006</td>\n",
       "      <td>2403</td>\n",
       "    </tr>\n",
       "    <tr>\n",
       "      <th>3</th>\n",
       "      <td>25.0</td>\n",
       "      <td>0.0</td>\n",
       "      <td>28.0</td>\n",
       "      <td>0.0</td>\n",
       "      <td>0.0</td>\n",
       "      <td>v</td>\n",
       "      <td>Kenya</td>\n",
       "      <td>Nairobi (Gym)</td>\n",
       "      <td>15 Aug 2006</td>\n",
       "      <td>2404</td>\n",
       "    </tr>\n",
       "    <tr>\n",
       "      <th>4</th>\n",
       "      <td>67.0</td>\n",
       "      <td>0.0</td>\n",
       "      <td>23.0</td>\n",
       "      <td>0.0</td>\n",
       "      <td>0.0</td>\n",
       "      <td>v</td>\n",
       "      <td>Sri Lanka</td>\n",
       "      <td>Mohali</td>\n",
       "      <td>7 Oct 2006</td>\n",
       "      <td>2423</td>\n",
       "    </tr>\n",
       "  </tbody>\n",
       "</table>\n",
       "</div>"
      ],
      "text/plain": [
       "    Run  Wicket  Run_Conceded  Catch  Stumping  Vs Opposition         Ground  \\\n",
       "0  30.0     1.0          39.0    0.0       0.0  v    Zimbabwe         Harare   \n",
       "1  20.0     2.0          32.0    0.0       0.0  v       Kenya  Nairobi (Gym)   \n",
       "2  13.0     1.0          26.0    0.0       0.0  v       Kenya  Nairobi (Gym)   \n",
       "3  25.0     0.0          28.0    0.0       0.0  v       Kenya  Nairobi (Gym)   \n",
       "4  67.0     0.0          23.0    0.0       0.0  v   Sri Lanka         Mohali   \n",
       "\n",
       "          Date  I_ODI  \n",
       "0   6 Aug 2006   2398  \n",
       "1  12 Aug 2006   2402  \n",
       "2  13 Aug 2006   2403  \n",
       "3  15 Aug 2006   2404  \n",
       "4   7 Oct 2006   2423  "
      ]
     },
     "execution_count": 23,
     "metadata": {},
     "output_type": "execute_result"
    }
   ],
   "source": [
    "def constant_features(data, num_features, cat_features):\n",
    "    const_feat_num = [feat for feat in num_features if data[feat].std()==0]\n",
    "    const_feat_cat = [feat for feat in cat_features if len(data[feat].unique())==1]\n",
    "    return (const_feat_num+const_feat_cat)\n",
    "df.head()"
   ]
  },
  {
   "cell_type": "markdown",
   "metadata": {},
   "source": [
    "তো এখানে আমরা একটা ফাংশন ডিফাইন করেছি যা দিয়ে আমরা দেখবো কোন একটা কলামের সব ভ্যালু সমান কিনা । মানে ঐ পুরো কলামটাই কন্সট্যান্ট কিনা । এখানে কোনটা কোনটা বলেন তো?\n"
   ]
  },
  {
   "cell_type": "markdown",
   "metadata": {},
   "source": [
    "এখানে আমি এখন এমন কন্সট্যান্ট কলাম গুলী ডিলেট করে দেবো । কেন? কারণ কন্সট্যান্ট কলাম গুলো ভিজুয়ালাইশনে কোন হেল্প করে না । \n",
    "এবং এইটা আপনার মডেলকেও কিছুই শিখাবে না । তাইলে এই আমড়া গাছের ঢেকিদের বাদ দিয়ে দেই ।  🤣"
   ]
  },
  {
   "cell_type": "code",
   "execution_count": 24,
   "metadata": {
    "scrolled": true
   },
   "outputs": [
    {
     "data": {
      "text/html": [
       "<div>\n",
       "<style scoped>\n",
       "    .dataframe tbody tr th:only-of-type {\n",
       "        vertical-align: middle;\n",
       "    }\n",
       "\n",
       "    .dataframe tbody tr th {\n",
       "        vertical-align: top;\n",
       "    }\n",
       "\n",
       "    .dataframe thead th {\n",
       "        text-align: right;\n",
       "    }\n",
       "</style>\n",
       "<table border=\"1\" class=\"dataframe\">\n",
       "  <thead>\n",
       "    <tr style=\"text-align: right;\">\n",
       "      <th></th>\n",
       "      <th>Run</th>\n",
       "      <th>Wicket</th>\n",
       "      <th>Run_Conceded</th>\n",
       "      <th>Catch</th>\n",
       "      <th>Opposition</th>\n",
       "      <th>Ground</th>\n",
       "      <th>Date</th>\n",
       "      <th>I_ODI</th>\n",
       "    </tr>\n",
       "  </thead>\n",
       "  <tbody>\n",
       "    <tr>\n",
       "      <th>0</th>\n",
       "      <td>30.0</td>\n",
       "      <td>1.0</td>\n",
       "      <td>39.0</td>\n",
       "      <td>0.0</td>\n",
       "      <td>Zimbabwe</td>\n",
       "      <td>Harare</td>\n",
       "      <td>6 Aug 2006</td>\n",
       "      <td>2398</td>\n",
       "    </tr>\n",
       "    <tr>\n",
       "      <th>1</th>\n",
       "      <td>20.0</td>\n",
       "      <td>2.0</td>\n",
       "      <td>32.0</td>\n",
       "      <td>0.0</td>\n",
       "      <td>Kenya</td>\n",
       "      <td>Nairobi (Gym)</td>\n",
       "      <td>12 Aug 2006</td>\n",
       "      <td>2402</td>\n",
       "    </tr>\n",
       "    <tr>\n",
       "      <th>2</th>\n",
       "      <td>13.0</td>\n",
       "      <td>1.0</td>\n",
       "      <td>26.0</td>\n",
       "      <td>0.0</td>\n",
       "      <td>Kenya</td>\n",
       "      <td>Nairobi (Gym)</td>\n",
       "      <td>13 Aug 2006</td>\n",
       "      <td>2403</td>\n",
       "    </tr>\n",
       "    <tr>\n",
       "      <th>3</th>\n",
       "      <td>25.0</td>\n",
       "      <td>0.0</td>\n",
       "      <td>28.0</td>\n",
       "      <td>0.0</td>\n",
       "      <td>Kenya</td>\n",
       "      <td>Nairobi (Gym)</td>\n",
       "      <td>15 Aug 2006</td>\n",
       "      <td>2404</td>\n",
       "    </tr>\n",
       "    <tr>\n",
       "      <th>4</th>\n",
       "      <td>67.0</td>\n",
       "      <td>0.0</td>\n",
       "      <td>23.0</td>\n",
       "      <td>0.0</td>\n",
       "      <td>Sri Lanka</td>\n",
       "      <td>Mohali</td>\n",
       "      <td>7 Oct 2006</td>\n",
       "      <td>2423</td>\n",
       "    </tr>\n",
       "  </tbody>\n",
       "</table>\n",
       "</div>"
      ],
      "text/plain": [
       "    Run  Wicket  Run_Conceded  Catch Opposition         Ground         Date  \\\n",
       "0  30.0     1.0          39.0    0.0   Zimbabwe         Harare   6 Aug 2006   \n",
       "1  20.0     2.0          32.0    0.0      Kenya  Nairobi (Gym)  12 Aug 2006   \n",
       "2  13.0     1.0          26.0    0.0      Kenya  Nairobi (Gym)  13 Aug 2006   \n",
       "3  25.0     0.0          28.0    0.0      Kenya  Nairobi (Gym)  15 Aug 2006   \n",
       "4  67.0     0.0          23.0    0.0  Sri Lanka         Mohali   7 Oct 2006   \n",
       "\n",
       "   I_ODI  \n",
       "0   2398  \n",
       "1   2402  \n",
       "2   2403  \n",
       "3   2404  \n",
       "4   2423  "
      ]
     },
     "execution_count": 24,
     "metadata": {},
     "output_type": "execute_result"
    }
   ],
   "source": [
    "con_f = constant_features(df, ['Catch','Stumping','Run_Conceded','Run','Wicket','I_ODI'],['Vs','Ground','Date','Opposition'])\n",
    "for f in con_f:\n",
    "    del df[f]\n",
    "df.head()"
   ]
  },
  {
   "cell_type": "markdown",
   "metadata": {},
   "source": [
    "তাইলে আমার বাদ পরলো কি কি? Stumping আর Vs কলামটা । এখন বুঝলেন তো স্ট্যাম্পিং কেন বাদ দিলাম ! আরে সাকিব তো উইকেট কিপিং করে না । তাইলে ও স্ট্যাম্পিং করবে না স্বাভাবিক । \n",
    "এইযে আমরা যে বুঝে নিলাম সাকিব স্ট্যাম্পিং করে না তাই তার এই কলাম বাদ দিলাম , এইটাকে বলে ডোমেইন নলেজ । মানে আপনি যে ডেটা নিয়ে কাজ করছেন সেইটা যে সিস্টেম থেকে আসছে তার উপর নলেজ থেকে আপনি হিসেব করলেন কোন ফিচারটা দরকারি কোনটা না । "
   ]
  },
  {
   "cell_type": "code",
   "execution_count": 25,
   "metadata": {
    "scrolled": false
   },
   "outputs": [
    {
     "data": {
      "text/plain": [
       "array(['Zimbabwe', 'Kenya', 'Sri Lanka', 'West Indies', 'Scotland',\n",
       "       'Bermuda', 'Canada', 'India', 'Australia', 'New Zealand',\n",
       "       'South Africa', 'England', 'Ireland', 'Pakistan', 'Netherlands',\n",
       "       'Afghanistan'], dtype=object)"
      ]
     },
     "execution_count": 25,
     "metadata": {},
     "output_type": "execute_result"
    }
   ],
   "source": [
    "df['Opposition'].unique()"
   ]
  },
  {
   "cell_type": "markdown",
   "metadata": {},
   "source": [
    "তো এখানে দেখা যাচ্ছে সাকিব টোটাল ১৬ টা টিমের সাথে খেলেছে । দেখি কার সাথে সাকিব কেমন রান করলো বা উইকেট পেলো । তার আগে টিম গুলোকে ৪ টা ভাগে ভাগ করে নেই । ভিজুয়ালাইজ করতে সুবিধা হবে । "
   ]
  },
  {
   "cell_type": "code",
   "execution_count": 26,
   "metadata": {
    "scrolled": true
   },
   "outputs": [
    {
     "data": {
      "text/html": [
       "<div>\n",
       "<style scoped>\n",
       "    .dataframe tbody tr th:only-of-type {\n",
       "        vertical-align: middle;\n",
       "    }\n",
       "\n",
       "    .dataframe tbody tr th {\n",
       "        vertical-align: top;\n",
       "    }\n",
       "\n",
       "    .dataframe thead th {\n",
       "        text-align: right;\n",
       "    }\n",
       "</style>\n",
       "<table border=\"1\" class=\"dataframe\">\n",
       "  <thead>\n",
       "    <tr style=\"text-align: right;\">\n",
       "      <th></th>\n",
       "      <th>Run</th>\n",
       "      <th>Wicket</th>\n",
       "      <th>Run_Conceded</th>\n",
       "      <th>Catch</th>\n",
       "      <th>Opposition</th>\n",
       "      <th>Ground</th>\n",
       "      <th>Date</th>\n",
       "      <th>I_ODI</th>\n",
       "    </tr>\n",
       "  </thead>\n",
       "  <tbody>\n",
       "    <tr>\n",
       "      <th>0</th>\n",
       "      <td>30.0</td>\n",
       "      <td>1.0</td>\n",
       "      <td>39.0</td>\n",
       "      <td>0.0</td>\n",
       "      <td>Average</td>\n",
       "      <td>Harare</td>\n",
       "      <td>6 Aug 2006</td>\n",
       "      <td>2398</td>\n",
       "    </tr>\n",
       "    <tr>\n",
       "      <th>1</th>\n",
       "      <td>20.0</td>\n",
       "      <td>2.0</td>\n",
       "      <td>32.0</td>\n",
       "      <td>0.0</td>\n",
       "      <td>Satisfactory</td>\n",
       "      <td>Nairobi (Gym)</td>\n",
       "      <td>12 Aug 2006</td>\n",
       "      <td>2402</td>\n",
       "    </tr>\n",
       "    <tr>\n",
       "      <th>2</th>\n",
       "      <td>13.0</td>\n",
       "      <td>1.0</td>\n",
       "      <td>26.0</td>\n",
       "      <td>0.0</td>\n",
       "      <td>Satisfactory</td>\n",
       "      <td>Nairobi (Gym)</td>\n",
       "      <td>13 Aug 2006</td>\n",
       "      <td>2403</td>\n",
       "    </tr>\n",
       "    <tr>\n",
       "      <th>3</th>\n",
       "      <td>25.0</td>\n",
       "      <td>0.0</td>\n",
       "      <td>28.0</td>\n",
       "      <td>0.0</td>\n",
       "      <td>Satisfactory</td>\n",
       "      <td>Nairobi (Gym)</td>\n",
       "      <td>15 Aug 2006</td>\n",
       "      <td>2404</td>\n",
       "    </tr>\n",
       "    <tr>\n",
       "      <th>4</th>\n",
       "      <td>67.0</td>\n",
       "      <td>0.0</td>\n",
       "      <td>23.0</td>\n",
       "      <td>0.0</td>\n",
       "      <td>Good</td>\n",
       "      <td>Mohali</td>\n",
       "      <td>7 Oct 2006</td>\n",
       "      <td>2423</td>\n",
       "    </tr>\n",
       "  </tbody>\n",
       "</table>\n",
       "</div>"
      ],
      "text/plain": [
       "    Run  Wicket  Run_Conceded  Catch    Opposition         Ground  \\\n",
       "0  30.0     1.0          39.0    0.0       Average         Harare   \n",
       "1  20.0     2.0          32.0    0.0  Satisfactory  Nairobi (Gym)   \n",
       "2  13.0     1.0          26.0    0.0  Satisfactory  Nairobi (Gym)   \n",
       "3  25.0     0.0          28.0    0.0  Satisfactory  Nairobi (Gym)   \n",
       "4  67.0     0.0          23.0    0.0          Good         Mohali   \n",
       "\n",
       "          Date  I_ODI  \n",
       "0   6 Aug 2006   2398  \n",
       "1  12 Aug 2006   2402  \n",
       "2  13 Aug 2006   2403  \n",
       "3  15 Aug 2006   2404  \n",
       "4   7 Oct 2006   2423  "
      ]
     },
     "execution_count": 26,
     "metadata": {},
     "output_type": "execute_result"
    }
   ],
   "source": [
    "Best = ['England','India','New Zealand','South Africa']\n",
    "Good = ['Australia','Pakistan','Sri Lanka','West Indies']\n",
    "Average = ['Afghanistan','Zimbabwe','Netherlands','Ireland']\n",
    "Satisfactory = ['Kenya', 'Bermuda','Canada','Scotland']\n",
    "\n",
    "for B in Best:\n",
    "    for i in range(len(df['Opposition'])):\n",
    "        if df['Opposition'].iloc[i]== B:\n",
    "            df['Opposition'].iloc[i] = \"Best\"\n",
    "for G in Good:\n",
    "    for i in range(len(df['Opposition'])):\n",
    "        if df['Opposition'].iloc[i]== G:\n",
    "            df['Opposition'].iloc[i] = \"Good\"\n",
    "for A in Average:\n",
    "    for i in range(len(df['Opposition'])):\n",
    "        if df['Opposition'].iloc[i]== A:\n",
    "            df['Opposition'].iloc[i] = \"Average\"\n",
    "for S in Satisfactory:\n",
    "    for i in range(len(df['Opposition'])):\n",
    "        if df['Opposition'].iloc[i]== S:\n",
    "            df['Opposition'].iloc[i] = \"Satisfactory\"\n",
    "df.head(5)"
   ]
  },
  {
   "cell_type": "markdown",
   "metadata": {},
   "source": [
    "তো এখানে আমরা বর্তমান আইসিসি র‍্যাংকিং অনুযায়ী টিমগুলোকে চার টা ভাগে ভাগ করেছি । \n",
    "Satisfactory,Average,Good,Best । মানে টপ চারটি টিম বেস্ট, তারপরের ৪ টি টিম গুড । তার পরের গুলো এভারেজ । তার পরের গুলো স্যাটিস্ফ্যাক্টরি । "
   ]
  },
  {
   "cell_type": "code",
   "execution_count": 27,
   "metadata": {},
   "outputs": [
    {
     "data": {
      "text/plain": [
       "55"
      ]
     },
     "execution_count": 27,
     "metadata": {},
     "output_type": "execute_result"
    }
   ],
   "source": [
    "all_ground = df['Ground'].nunique()\n",
    "all_ground"
   ]
  },
  {
   "cell_type": "code",
   "execution_count": 28,
   "metadata": {
    "scrolled": true
   },
   "outputs": [
    {
     "data": {
      "text/plain": [
       "array(['Harare', 'Nairobi (Gym)', 'Mohali', 'Jaipur', 'Khulna', 'Bogra',\n",
       "       'Dhaka', 'Chattogram', \"St John's\", 'Port of Spain', 'North Sound',\n",
       "       'Providence', 'Bridgetown', 'Colombo (PSS)', 'Colombo (RPS)',\n",
       "       'Auckland', 'Napier', 'Queenstown', 'Lahore', 'Faisalabad',\n",
       "       'Multan', 'Karachi', 'Darwin', 'Potchefstroom', 'Benoni', 'Roseau',\n",
       "       'Basseterre', 'Bulawayo', 'Dunedin', 'Christchurch', 'Dambulla',\n",
       "       'Nottingham', 'Bristol', 'Birmingham', 'Belfast', 'Glasgow',\n",
       "       'Canberra', 'Melbourne', 'Nelson', 'Adelaide', 'Hamilton',\n",
       "       'Colombo (SSC)', 'Dublin (Malahide)', 'Dublin', 'The Oval',\n",
       "       'Cardiff', 'Kimberley', 'Paarl', 'East London', 'Dubai (DSC)',\n",
       "       'Abu Dhabi', 'Sylhet', 'Taunton', 'Southampton', \"Lord's\"],\n",
       "      dtype=object)"
      ]
     },
     "execution_count": 28,
     "metadata": {},
     "output_type": "execute_result"
    }
   ],
   "source": [
    "all_ground = df['Ground'].unique()\n",
    "all_ground"
   ]
  },
  {
   "cell_type": "markdown",
   "metadata": {},
   "source": [
    "এবার দেখি সাকিব টোটাল কতগুলি মাঠে খেলেছে । তো সাকিব টোটাল ৫৫টি মাঠে খেলেছে । এখন আমরা ফিল্টার করবো ঘরের মাঠে কয়টি আর বাইরের মাঠে কয়টি ম্যাচ খেলেছে । তাই এই কলামকেও ২ ভাগে ভাগ করে নেই । Home Ground আর Abroad Ground ।"
   ]
  },
  {
   "cell_type": "code",
   "execution_count": 29,
   "metadata": {
    "scrolled": true
   },
   "outputs": [
    {
     "data": {
      "text/html": [
       "<div>\n",
       "<style scoped>\n",
       "    .dataframe tbody tr th:only-of-type {\n",
       "        vertical-align: middle;\n",
       "    }\n",
       "\n",
       "    .dataframe tbody tr th {\n",
       "        vertical-align: top;\n",
       "    }\n",
       "\n",
       "    .dataframe thead th {\n",
       "        text-align: right;\n",
       "    }\n",
       "</style>\n",
       "<table border=\"1\" class=\"dataframe\">\n",
       "  <thead>\n",
       "    <tr style=\"text-align: right;\">\n",
       "      <th></th>\n",
       "      <th>Run</th>\n",
       "      <th>Wicket</th>\n",
       "      <th>Run_Conceded</th>\n",
       "      <th>Catch</th>\n",
       "      <th>Opposition</th>\n",
       "      <th>Ground</th>\n",
       "      <th>Date</th>\n",
       "      <th>I_ODI</th>\n",
       "    </tr>\n",
       "  </thead>\n",
       "  <tbody>\n",
       "    <tr>\n",
       "      <th>0</th>\n",
       "      <td>30.0</td>\n",
       "      <td>1.0</td>\n",
       "      <td>39.0</td>\n",
       "      <td>0.0</td>\n",
       "      <td>Average</td>\n",
       "      <td>Abroad Ground</td>\n",
       "      <td>6 Aug 2006</td>\n",
       "      <td>2398</td>\n",
       "    </tr>\n",
       "    <tr>\n",
       "      <th>1</th>\n",
       "      <td>20.0</td>\n",
       "      <td>2.0</td>\n",
       "      <td>32.0</td>\n",
       "      <td>0.0</td>\n",
       "      <td>Satisfactory</td>\n",
       "      <td>Abroad Ground</td>\n",
       "      <td>12 Aug 2006</td>\n",
       "      <td>2402</td>\n",
       "    </tr>\n",
       "    <tr>\n",
       "      <th>2</th>\n",
       "      <td>13.0</td>\n",
       "      <td>1.0</td>\n",
       "      <td>26.0</td>\n",
       "      <td>0.0</td>\n",
       "      <td>Satisfactory</td>\n",
       "      <td>Abroad Ground</td>\n",
       "      <td>13 Aug 2006</td>\n",
       "      <td>2403</td>\n",
       "    </tr>\n",
       "    <tr>\n",
       "      <th>3</th>\n",
       "      <td>25.0</td>\n",
       "      <td>0.0</td>\n",
       "      <td>28.0</td>\n",
       "      <td>0.0</td>\n",
       "      <td>Satisfactory</td>\n",
       "      <td>Abroad Ground</td>\n",
       "      <td>15 Aug 2006</td>\n",
       "      <td>2404</td>\n",
       "    </tr>\n",
       "    <tr>\n",
       "      <th>4</th>\n",
       "      <td>67.0</td>\n",
       "      <td>0.0</td>\n",
       "      <td>23.0</td>\n",
       "      <td>0.0</td>\n",
       "      <td>Good</td>\n",
       "      <td>Abroad Ground</td>\n",
       "      <td>7 Oct 2006</td>\n",
       "      <td>2423</td>\n",
       "    </tr>\n",
       "    <tr>\n",
       "      <th>5</th>\n",
       "      <td>0.0</td>\n",
       "      <td>0.0</td>\n",
       "      <td>12.0</td>\n",
       "      <td>0.0</td>\n",
       "      <td>Good</td>\n",
       "      <td>Abroad Ground</td>\n",
       "      <td>11 Oct 2006</td>\n",
       "      <td>2426</td>\n",
       "    </tr>\n",
       "    <tr>\n",
       "      <th>6</th>\n",
       "      <td>36.0</td>\n",
       "      <td>3.0</td>\n",
       "      <td>18.0</td>\n",
       "      <td>1.0</td>\n",
       "      <td>Average</td>\n",
       "      <td>Abroad Ground</td>\n",
       "      <td>13 Oct 2006</td>\n",
       "      <td>2427</td>\n",
       "    </tr>\n",
       "    <tr>\n",
       "      <th>7</th>\n",
       "      <td>25.0</td>\n",
       "      <td>2.0</td>\n",
       "      <td>30.0</td>\n",
       "      <td>0.0</td>\n",
       "      <td>Average</td>\n",
       "      <td>Home Ground</td>\n",
       "      <td>30 Nov 2006</td>\n",
       "      <td>2453</td>\n",
       "    </tr>\n",
       "    <tr>\n",
       "      <th>8</th>\n",
       "      <td>36.0</td>\n",
       "      <td>2.0</td>\n",
       "      <td>44.0</td>\n",
       "      <td>0.0</td>\n",
       "      <td>Average</td>\n",
       "      <td>Home Ground</td>\n",
       "      <td>3 Dec 2006</td>\n",
       "      <td>2457</td>\n",
       "    </tr>\n",
       "    <tr>\n",
       "      <th>9</th>\n",
       "      <td>26.0</td>\n",
       "      <td>0.0</td>\n",
       "      <td>40.0</td>\n",
       "      <td>1.0</td>\n",
       "      <td>Average</td>\n",
       "      <td>Home Ground</td>\n",
       "      <td>5 Dec 2006</td>\n",
       "      <td>2459</td>\n",
       "    </tr>\n",
       "  </tbody>\n",
       "</table>\n",
       "</div>"
      ],
      "text/plain": [
       "    Run  Wicket  Run_Conceded  Catch    Opposition         Ground  \\\n",
       "0  30.0     1.0          39.0    0.0       Average  Abroad Ground   \n",
       "1  20.0     2.0          32.0    0.0  Satisfactory  Abroad Ground   \n",
       "2  13.0     1.0          26.0    0.0  Satisfactory  Abroad Ground   \n",
       "3  25.0     0.0          28.0    0.0  Satisfactory  Abroad Ground   \n",
       "4  67.0     0.0          23.0    0.0          Good  Abroad Ground   \n",
       "5   0.0     0.0          12.0    0.0          Good  Abroad Ground   \n",
       "6  36.0     3.0          18.0    1.0       Average  Abroad Ground   \n",
       "7  25.0     2.0          30.0    0.0       Average    Home Ground   \n",
       "8  36.0     2.0          44.0    0.0       Average    Home Ground   \n",
       "9  26.0     0.0          40.0    1.0       Average    Home Ground   \n",
       "\n",
       "          Date  I_ODI  \n",
       "0   6 Aug 2006   2398  \n",
       "1  12 Aug 2006   2402  \n",
       "2  13 Aug 2006   2403  \n",
       "3  15 Aug 2006   2404  \n",
       "4   7 Oct 2006   2423  \n",
       "5  11 Oct 2006   2426  \n",
       "6  13 Oct 2006   2427  \n",
       "7  30 Nov 2006   2453  \n",
       "8   3 Dec 2006   2457  \n",
       "9   5 Dec 2006   2459  "
      ]
     },
     "execution_count": 29,
     "metadata": {},
     "output_type": "execute_result"
    }
   ],
   "source": [
    "inside_g = ['Dhaka','Chattogram','Khulna','Bogra','Sylhet']\n",
    "outside_g = []\n",
    "for g in all_ground:\n",
    "    if g not in inside_g:\n",
    "        outside_g.append(g)\n",
    "for ig in inside_g:\n",
    "    for i in range(len(df['Ground'])):\n",
    "        if df['Ground'].iloc[i]== ig:\n",
    "            df['Ground'].iloc[i] = \"Home Ground\"\n",
    "for og in outside_g:\n",
    "    for i in range(len(df['Ground'])):\n",
    "        if df['Ground'].iloc[i]== og:\n",
    "            df['Ground'].iloc[i] = \"Abroad Ground\"\n",
    "df.head(10)"
   ]
  },
  {
   "cell_type": "markdown",
   "metadata": {},
   "source": [
    "এবার ভিজুয়ালাইজশনে নামি আবার । "
   ]
  },
  {
   "cell_type": "code",
   "execution_count": 30,
   "metadata": {
    "scrolled": true
   },
   "outputs": [
    {
     "data": {
      "image/png": "[encoded data removed]",
      "text/plain": [
       "<Figure size 432x288 with 1 Axes>"
      ]
     },
     "metadata": {
      "needs_background": "light"
     },
     "output_type": "display_data"
    }
   ],
   "source": [
    "plot = sns.boxplot(df[\"Run\"])"
   ]
  },
  {
   "cell_type": "markdown",
   "metadata": {},
   "source": [
    "রানে দেখা যাচ্ছে তার ইন্টারকোয়ার্টাইল রেঞ্জ হিসাব করা হয়েছে মোটামোটি ১০-৫০ এর মধ্যে । এবং তার ১১০ এর বাইরের রান গুলিকে আউটলেয়ার হিসেবে ধরা হয়েছে । মানে এই রান গুলো খুবই রেয়ার !আউটলেয়ার সমন্ধে আরো জানতে <a href=\"https://www.khanacademy.org/math/statistics-probability/summarizing-quantitative-data/box-whisker-plots/a/identifying-outliers-iqr-rule\" > আউটলেয়ার ডিটেকশন </a>।"
   ]
  },
  {
   "cell_type": "code",
   "execution_count": 31,
   "metadata": {
    "scrolled": false
   },
   "outputs": [
    {
     "data": {
      "image/png": "[encoded data removed]",
      "text/plain": [
       "<Figure size 432x288 with 1 Axes>"
      ]
     },
     "metadata": {
      "needs_background": "light"
     },
     "output_type": "display_data"
    }
   ],
   "source": [
    "plot = sns.boxplot(df[\"Wicket\"])"
   ]
  },
  {
   "cell_type": "markdown",
   "metadata": {},
   "source": [
    "উইকেটে কোন আউটলেয়ার দেখা যাচ্ছে না । "
   ]
  },
  {
   "cell_type": "code",
   "execution_count": 32,
   "metadata": {
    "scrolled": false
   },
   "outputs": [
    {
     "data": {
      "image/png": "[encoded data removed]",
      "text/plain": [
       "<Figure size 432x288 with 1 Axes>"
      ]
     },
     "metadata": {
      "needs_background": "light"
     },
     "output_type": "display_data"
    }
   ],
   "source": [
    "plot = sns.boxplot(df[\"Run_Conceded\"])"
   ]
  },
  {
   "cell_type": "markdown",
   "metadata": {},
   "source": [
    "এখানেও সেম "
   ]
  },
  {
   "cell_type": "code",
   "execution_count": 33,
   "metadata": {
    "scrolled": false
   },
   "outputs": [
    {
     "data": {
      "image/png": "[encoded data removed]",
      "text/plain": [
       "<Figure size 432x288 with 1 Axes>"
      ]
     },
     "metadata": {
      "needs_background": "light"
     },
     "output_type": "display_data"
    }
   ],
   "source": [
    "plot = sns.boxplot(df[\"Catch\"])"
   ]
  },
  {
   "cell_type": "markdown",
   "metadata": {},
   "source": [
    "ক্যাচে আউটলেয়ার ভর্তি! মানে সাকিব ক্যাচ ধরেছে এমন ম্যাচই রেয়ার ! "
   ]
  },
  {
   "cell_type": "code",
   "execution_count": 34,
   "metadata": {
    "scrolled": false
   },
   "outputs": [
    {
     "data": {
      "image/png": "[encoded data removed]",
      "text/plain": [
       "<Figure size 432x288 with 1 Axes>"
      ]
     },
     "metadata": {
      "needs_background": "light"
     },
     "output_type": "display_data"
    }
   ],
   "source": [
    "plot = sns.countplot(df[\"Opposition\"])"
   ]
  },
  {
   "cell_type": "markdown",
   "metadata": {},
   "source": [
    "তো দেখা যাচ্ছে সাকিব সবচেয়ে বেশি ম্যাচ খেলেছে বেস্ট টিমগুলোর সাথে, বাকি এভারেজ, এবং গুড টিমগুলোর সাথে ম্যাচ সংখ্যাটাও কাছাকাছিই । তবে স্যাটিসফ্যাক্টরি টিম গুলোর সাথে খুবই কম ম্যাচ খেলেছে । এর ভিতরে ম্যাক্সিমামই জিম্বাবুয়ে । "
   ]
  },
  {
   "cell_type": "code",
   "execution_count": 35,
   "metadata": {
    "scrolled": false
   },
   "outputs": [
    {
     "data": {
      "image/png": "[encoded data removed]",
      "text/plain": [
       "<Figure size 432x288 with 1 Axes>"
      ]
     },
     "metadata": {
      "needs_background": "light"
     },
     "output_type": "display_data"
    }
   ],
   "source": [
    "plot = sns.countplot(df[\"Ground\"])"
   ]
  },
  {
   "cell_type": "markdown",
   "metadata": {},
   "source": [
    "দেখা যাচ্ছে সাকিব বিদেশেই বেশি ম্যাচ খেলেছে দেশের তুলনায় !"
   ]
  },
  {
   "cell_type": "code",
   "execution_count": 36,
   "metadata": {
    "scrolled": false
   },
   "outputs": [
    {
     "data": {
      "image/png": "[encoded data removed]",
      "text/plain": [
       "<Figure size 432x288 with 1 Axes>"
      ]
     },
     "metadata": {
      "needs_background": "light"
     },
     "output_type": "display_data"
    }
   ],
   "source": [
    "plot = sns.countplot(df[\"Ground\"], \n",
    "                     hue=df[\"Opposition\"])"
   ]
  },
  {
   "cell_type": "markdown",
   "metadata": {},
   "source": [
    "এখানে দেখা যাচ্ছে বিদেশে সাকিব বেস্ট এবং গুড টিম গুলোর সাথে বেশি খেলেছে । এভারেজ টিমের সাথে খেলার সংখ্যাটাও কম না । \n",
    "হোম গ্রাউন্ডেও অনেকটা সেম অবস্থাই । তবে এখানে সবচেয়ে বেশি এভারেজ ।"
   ]
  },
  {
   "cell_type": "code",
   "execution_count": 37,
   "metadata": {
    "scrolled": false
   },
   "outputs": [
    {
     "data": {
      "image/png": "[encoded data removed]",
      "text/plain": [
       "<Figure size 432x288 with 1 Axes>"
      ]
     },
     "metadata": {
      "needs_background": "light"
     },
     "output_type": "display_data"
    }
   ],
   "source": [
    "plot = sns.barplot(x=df[\"Ground\"], \n",
    "                   y=df[\"Run\"])"
   ]
  },
  {
   "cell_type": "markdown",
   "metadata": {},
   "source": [
    "তো দেখতেই পাচ্ছি সাকিব বিদেশের মাটিতেই বেশি রান করেছে । মানে সে হোম ট্র্যাক বুলি না । বেস্ট অলরাউন্ডার বলে কথা!"
   ]
  },
  {
   "cell_type": "code",
   "execution_count": 38,
   "metadata": {
    "scrolled": false
   },
   "outputs": [
    {
     "data": {
      "image/png": "[encoded data removed]",
      "text/plain": [
       "<Figure size 432x288 with 1 Axes>"
      ]
     },
     "metadata": {
      "needs_background": "light"
     },
     "output_type": "display_data"
    }
   ],
   "source": [
    "plot = sns.barplot(x=df[\"Opposition\"], \n",
    "                   y=df[\"Run\"])"
   ]
  },
  {
   "cell_type": "markdown",
   "metadata": {},
   "source": [
    "রানের দিক থেকে দেখা যাচ্ছে সবচেয়ে বেশি রান স্যাটিসফ্যাক্টরি টিম গুলোর বিপক্ষে । এখানে জিম্বাবুয়ে বড় ভুমিকা পালন করেছে মনে হচ্ছে! \n",
    "গুড,বেস্ট আর এভারেজ মোটামোটি কাছাকাছিই । তবে লোয়েস্ট হলো বেস্ট টিমগুলোর বিপক্ষে । এর কারণও কিন্তু পরিষ্কার । সাকিব বেস্ট টিমগুলোর বিপক্ষে খেলার চান্স খুব কমই পেয়েছে !"
   ]
  },
  {
   "cell_type": "code",
   "execution_count": 39,
   "metadata": {
    "scrolled": false
   },
   "outputs": [
    {
     "data": {
      "image/png": "[encoded data removed]",
      "text/plain": [
       "<Figure size 432x288 with 1 Axes>"
      ]
     },
     "metadata": {
      "needs_background": "light"
     },
     "output_type": "display_data"
    }
   ],
   "source": [
    "plot = sns.barplot(x=df[\"Opposition\"], \n",
    "                   y=df[\"Wicket\"])"
   ]
  },
  {
   "cell_type": "markdown",
   "metadata": {},
   "source": [
    "উইকেটের দিক থেকে এভারেজ টিম গুলোর সাথে সবচেয়ে বেশি উইকেট । এর পরে আছে বেস্ট  আর স্যাটিসফ্যাক্টরি টিম গুলো । নিঃসন্দেহে এখানেও জিম্বাবুয়ের কেরামতি!"
   ]
  },
  {
   "cell_type": "code",
   "execution_count": 40,
   "metadata": {
    "scrolled": true
   },
   "outputs": [
    {
     "data": {
      "image/png": "[encoded data removed]",
      "text/plain": [
       "<Figure size 432x288 with 1 Axes>"
      ]
     },
     "metadata": {
      "needs_background": "light"
     },
     "output_type": "display_data"
    }
   ],
   "source": [
    "plot = sns.barplot(x=df[\"Ground\"], \n",
    "                   y=df[\"Wicket\"])"
   ]
  },
  {
   "cell_type": "markdown",
   "metadata": {},
   "source": [
    "উইকেট কিন্তু হোম গ্রাউন্ডেই বেশি দেখা যাচ্ছে । কারণ সাকিব স্লো আর্ম বোলার । আর আমাদের দেশীয় পিচ স্লো পিচ । সো ম্যাচিং ম্যাচিং ! 🤣"
   ]
  },
  {
   "cell_type": "code",
   "execution_count": 41,
   "metadata": {
    "scrolled": false
   },
   "outputs": [
    {
     "data": {
      "text/plain": [
       "Run             float64\n",
       "Wicket          float64\n",
       "Run_Conceded    float64\n",
       "Catch           float64\n",
       "Opposition       object\n",
       "Ground           object\n",
       "I_ODI             int64\n",
       "dtype: object"
      ]
     },
     "execution_count": 41,
     "metadata": {},
     "output_type": "execute_result"
    }
   ],
   "source": [
    "del df['Date']\n",
    "df.dtypes"
   ]
  },
  {
   "cell_type": "markdown",
   "metadata": {},
   "source": [
    "ডেট ডিলেট করে দিলাম । ডেটের কাজ নাই কোন । সাকিব তো ডেট ওয়াইজ ভালো খেলবে এমন না তাইনা! "
   ]
  },
  {
   "cell_type": "code",
   "execution_count": 42,
   "metadata": {
    "scrolled": true
   },
   "outputs": [
    {
     "data": {
      "image/png": "[encoded data removed]",
      "text/plain": [
       "<Figure size 432x288 with 1 Axes>"
      ]
     },
     "metadata": {
      "needs_background": "light"
     },
     "output_type": "display_data"
    }
   ],
   "source": [
    "plot = sns.barplot(x=df[\"Ground\"], \n",
    "                   y=df[\"Catch\"])"
   ]
  },
  {
   "cell_type": "markdown",
   "metadata": {},
   "source": [
    "বিদেশে ক্যাচ বেশি নিয়েছে দেশের চেয়ে । তবে মোটামোটি সমান সমান সমানই বলা যায় । "
   ]
  },
  {
   "cell_type": "code",
   "execution_count": 43,
   "metadata": {
    "scrolled": true
   },
   "outputs": [
    {
     "data": {
      "image/png": "[encoded data removed]",
      "text/plain": [
       "<Figure size 432x288 with 1 Axes>"
      ]
     },
     "metadata": {
      "needs_background": "light"
     },
     "output_type": "display_data"
    }
   ],
   "source": [
    "plot = sns.barplot(x=df[\"Ground\"], \n",
    "                   y=df[\"Run_Conceded\"])"
   ]
  },
  {
   "cell_type": "markdown",
   "metadata": {},
   "source": [
    "দেশের মাটিতে সাকিব রান কম দিয়েছে । কারণ এখানে সাকিব কিন্তু বোলিং ভালো করতে পারে । "
   ]
  }
 ],
 "metadata": {
  "kernelspec": {
   "display_name": "Python 3",
   "language": "python",
   "name": "python3"
  },
  "language_info": {
   "codemirror_mode": {
    "name": "ipython",
    "version": 3
   },
   "file_extension": ".py",
   "mimetype": "text/x-python",
   "name": "python",
   "nbconvert_exporter": "python",
   "pygments_lexer": "ipython3",
   "version": "3.7.6"
  }
 },
 "nbformat": 4,
 "nbformat_minor": 4
}
