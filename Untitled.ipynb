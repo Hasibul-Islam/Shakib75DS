{
 "cells": [
  {
   "cell_type": "markdown",
   "metadata": {},
   "source": [
    "<center><h1> **প্রজেক্ট বিস্তারিত **</h1></center>\n",
    "\n",
    "অতি  ছো্ট এবং আমার একান্তই শখের প্রজেক্ট ।  সাকিব মাঠে নেই কিন্তু তাকে ঘিরে ইন্টারেস্ট তো কম নেই কারো । \n",
    "কিছুদিনের ভেতরেই সাকিব আন্তর্জাতিক ক্রিকেটে ফিরবে ইনশাআল্লাহ । তো চিন্তা করলাম সাকিব ফিরে ওডিয়াই তে কিরকম রান করতে পারে? তার রান প্রেডিক্ট করা যাক ! কি বলেন?  😊\n",
    "এখানে রিগ্রেসনের কয়েটি বেসিক মডেল (আমি যা জানি আরকি)ট্রেইন করে দেখবো কি রকম একুরেসি পাই আমরা । সেখান থেকে বেস্ট টা চুজ করবো । \n",
    "কারণ সাকিব আল হাসান হলেন বেস্ট অল-রাউন্ডার ইন দ্যা ওয়ার্ল্ড । সো দ্যা বেস্ট গোজ ফর হিম ! 😍"
   ]
  },
  {
   "cell_type": "markdown",
   "metadata": {},
   "source": [
    "<center><h1>**ডেটা কালেকশন প্রসেস **</h1></center>\n",
    "\n",
    "\n",
    "এখানে আমরা ওয়েব স্ক্রাপিং করে সাকিব আল হাসানের ওয়ানডে ক্রিকেট হিস্টোরি ম্যাচ বাই ম্যাচ তুলে নিয়ে আসবো ইসপিএন ক্রিকইনফো তে তার প্রোফাইল থেকে । ডেটাসেট বের করার অন্যতম বড় ওয়ে হচ্ছে ওয়েব স্ক্রাপিং । এটিই আমার প্রথম ওয়েব স্ক্রাপিং । এইখানে আমি যেভাবে করেছি সেটা বেস্ট এপ্রোচ না । রেগুলার এক্সপ্রেশন এবং বিউটিফুল সুপের অনেক ফাংশনালিটি ইউজ করে আরো সুন্দর করে করা যায় ।আমি হলাম অলস মানুষ । যত সহজে করতে পারি আরকি! 🤣"
   ]
  },
  {
   "cell_type": "markdown",
   "metadata": {},
   "source": [
    "প্রথমেই আমাদের দরকারি লাইব্রেরী গুলো ইমপোর্ট করে নেই । \n",
    "<p>pandas দিয়ে আমরা ডেটাফ্রেম লোড করবো । এবং পরবর্তী ডেটা প্রসেসিং, ভিজুয়ালাইজেশন, মডেল ট্রেইনিং ইত্যাদি করবো ।</p>\n",
    "<p>numpy দিয়ে আমরা ২ডি লিস্ট ক্রিয়েট করা থেকে অনেক ধরনের কাজে লাগাতে পারবো । যেমন ধরেন মিন, মিডিয়ান, মোড ইত্যাদি । </p>\n",
    "<p>matplotlib টোটালি ডেটা ভিজুয়ালাইজ করার জন্য । </p>\n",
    "<p>seaborn একই কাজ করবে । এইটা matplotlib এর আপডেটেড ভার্সনও বলা চলে । </p>\n",
    "<p>BeautifulSoup হচ্ছে ওয়েব স্ক্রাপিং এর জন্য । এইটা দিয়েই আমরা ওয়েব থেকে ডেটা স্ক্রাপ করে নিয়ে আসবো । </p>\n",
    "<p>requests দিয়ে আমরা নির্দিষ্ট লিংকে রিকুয়েস্ট পাঠাবো ডেটা কালেকশনের জন্য । </p>\n"
   ]
  },
  {
   "cell_type": "code",
   "execution_count": 1,
   "metadata": {},
   "outputs": [],
   "source": [
    "import pandas as pd\n",
    "import numpy as np\n",
    "import matplotlib.pyplot as plt\n",
    "import seaborn as sns\n",
    "%matplotlib inline\n",
    "from bs4 import BeautifulSoup\n",
    "import requests\n",
    "import warnings\n",
    "warnings.filterwarnings(\"ignore\")"
   ]
  },
  {
   "cell_type": "markdown",
   "metadata": {},
   "source": [
    "রিকুয়েস্ট পাঠালাম আমাদের কাঙ্ক্ষিত লিংক URL এ"
   ]
  },
  {
   "cell_type": "code",
   "execution_count": 2,
   "metadata": {},
   "outputs": [],
   "source": [
    "data = requests.get(\"https://stats.espncricinfo.com/ci/engine/player/56143.html?class=2;template=results;type=allround;view=match\")"
   ]
  },
  {
   "cell_type": "markdown",
   "metadata": {},
   "source": [
    "তো এই হলো আমাদের ডেটা । এখানে আমাদের শুধু টেবিলের ডেটা গুলো নিয়ে আসলেই চলবে । \n",
    "তাই আমরা এখানে টেবিল এর ডেটা নিয়ে আসার ট্রাই করবো । \n",
    "ডেটা টেবিলে কি কি আছে দেখা যাক !\n",
    "<p>Bat1- ঐ ম্যাচে কত রান করলো </p>\n",
    "<p>Wkts- ঐ ম্যাচের উইকেট সংখ্যা </p>\n",
    "<p>Conc- ঐ ম্যাচে বোলিং এ কতো রান দিলো । </p>\n",
    "<p>Ct-ঐ ম্যাচে কয়টি ক্যাচ ধরলো </p>\n",
    "<p>St-ঐ ম্যাচে কয়টি স্ট্যাম্পিং করলো</p>\n",
    "<p>Opposition-বিপক্ষ দল </p>\n",
    "<p>Ground-কোন মাঠে খেলা হলো</p>\n",
    "<p>Start Date-কবে খেলা হলো </p>\n",
    "<p>ফাকা কলাম নেম- আন্তর্জাতিক কত তম ম্যাচ</p>\n",
    "\n",
    "\n",
    "<img src=\"Shakib.PNG\">"
   ]
  },
  {
   "cell_type": "markdown",
   "metadata": {},
   "source": [
    "আমরা যদি ব্রাউজারে ইন্সপেক্ট এলিমেন্ট দেখি তাহলে দেখতে পাবো এই টেবিলের ডেটা গুলো সব  td নামক ট্যাগের ভিতরে আছে \n",
    "তাহলে আমরা এই ট্যাগ ধরে এই ট্যাগের সকল ডেটা পার্স করে নিয়ে আসি । \n",
    "<img src=\"Table.JPG\">"
   ]
  },
  {
   "cell_type": "code",
   "execution_count": 3,
   "metadata": {},
   "outputs": [],
   "source": [
    "MLBsoup = BeautifulSoup(data.text, 'html.parser')\n",
    "ABSoup = MLBsoup.select('td')\n",
    "AbSoup = BeautifulSoup((\"\".join(str(x) for x in ABSoup)), 'html.parser') \n",
    "AbSoup = AbSoup.find_all(text=True)\n",
    "Ab = AbSoup[32:2092]\n",
    "with open('x.txt', 'w') as f:\n",
    "    for item in Ab:\n",
    "        f.write(\"%s\\n\" % item)\n"
   ]
  },
  {
   "cell_type": "markdown",
   "metadata": {},
   "source": [
    "MLBsoup এই ভ্যারিয়েবলে আমার এই পেজের সব ডেটা চলে এসেছে । \n",
    "ABSoup  এই ভ্যারিয়েবলে আমার এই পেজের td ট্যাগের সব ডেটা চলে এসেছে । যেটা আমি এক্সেস করেছি MLBsoup ভ্যারিয়েবল থেকে ।\n",
    "এবার আমি ABSoup এ টেক্সট আকারে যা যা ডেটা আছে তা জয়েন করে রেখেছি AbSoup ভ্যারিয়েবলে এবং তা পার্স করে রেখেছি । \n",
    "তার পর আমি  AbSoup এ যা যা আছে তা সবকিছু আবার টেক্সট আকারে করেছি । যাতে আমি ভ্যালুগুলি দিয়ে লিস্ট বানাতে পারি । \n",
    "Ab = AbSoup[32:2092] এই লাইনে আসলে আমি ৩২ ইন্ডেক্স থেকে ২০৯২ ইন্ডেক্স পর্যন্ত রেখেছি । কারণ বাকিগুলো আমার দরকারের বাইরে ।\n",
    "ইন্ডেক্সের ২০৯২ নাম্বার ভ্যালুটি হলো  \"ODI # 4186\" মানে যে পর্যন্ত আমার দরকার । \n",
    "<p>with open('x.txt', 'w') as f:</p>\n",
    "<p><t>    for item in Ab:</p>\n",
    "<p><t>        f.write(\"%s\\n\" % item)</p>\n",
    "এখানে আমি নর্মালি চেক করে দেখলাম যে আমার দরকার মতো ডেটা আমি পাচ্ছি কিনা । তা একটা টেক্সট ফাইলে জমা করে দেখলাম ।"
   ]
  },
  {
   "cell_type": "code",
   "execution_count": 4,
   "metadata": {},
   "outputs": [],
   "source": [
    "P_Data = np.array(Ab).reshape(206,10)\n",
    "df = pd.DataFrame({'Run': P_Data[:, 0], 'Wicket': P_Data[:, 1], 'Run_Conceded': P_Data[:, 2], 'Catch': P_Data[:, 3], 'Stumping': P_Data[:, 4], \n",
    "                   'Vs': P_Data[:, 5],'Opposition': P_Data[:, 6], 'Ground': P_Data[:, 7],'Date': P_Data[:, 8], 'I_ODI': P_Data[:, 9]})\n"
   ]
  },
  {
   "cell_type": "markdown",
   "metadata": {},
   "source": [
    "এবার আমি একটা নাম্পাই 2D list বানাবো যাতে আমি ঐ লিস্ট ডেটাফ্রেমে পাস করতে পারি । এখানে লক্ষ করে দেখবেন প্রতিটা টেবিল রো তে ১০ টি করে ভ্যালু আছে । \n",
    "যেমন প্রথম রো তে,\n",
    "<p>১\t২\t৩\t৪\t৫\t৬\t৭\t\t৮\t৯\t\t১০ </p>\n",
    "<p>30*\t1\t39\t0\t0\tv \tZimbabwe\tHarare\t6 Aug 2006\tODI # 2398</p>\n",
    "\n",
    "তাহলে এবার আমরা এই অনুযায়ী আমাদের ডেটাফ্রেম ক্রিয়েট করে ফেলি ।"
   ]
  },
  {
   "cell_type": "code",
   "execution_count": 5,
   "metadata": {},
   "outputs": [
    {
     "data": {
      "text/html": [
       "<div>\n",
       "<style scoped>\n",
       "    .dataframe tbody tr th:only-of-type {\n",
       "        vertical-align: middle;\n",
       "    }\n",
       "\n",
       "    .dataframe tbody tr th {\n",
       "        vertical-align: top;\n",
       "    }\n",
       "\n",
       "    .dataframe thead th {\n",
       "        text-align: right;\n",
       "    }\n",
       "</style>\n",
       "<table border=\"1\" class=\"dataframe\">\n",
       "  <thead>\n",
       "    <tr style=\"text-align: right;\">\n",
       "      <th></th>\n",
       "      <th>Run</th>\n",
       "      <th>Wicket</th>\n",
       "      <th>Run_Conceded</th>\n",
       "      <th>Catch</th>\n",
       "      <th>Stumping</th>\n",
       "      <th>Vs</th>\n",
       "      <th>Opposition</th>\n",
       "      <th>Ground</th>\n",
       "      <th>Date</th>\n",
       "      <th>I_ODI</th>\n",
       "    </tr>\n",
       "  </thead>\n",
       "  <tbody>\n",
       "    <tr>\n",
       "      <th>0</th>\n",
       "      <td>30*</td>\n",
       "      <td>1</td>\n",
       "      <td>39</td>\n",
       "      <td>0</td>\n",
       "      <td>0</td>\n",
       "      <td>v</td>\n",
       "      <td>Zimbabwe</td>\n",
       "      <td>Harare</td>\n",
       "      <td>6 Aug 2006</td>\n",
       "      <td>ODI # 2398</td>\n",
       "    </tr>\n",
       "    <tr>\n",
       "      <th>1</th>\n",
       "      <td>20</td>\n",
       "      <td>2</td>\n",
       "      <td>32</td>\n",
       "      <td>0</td>\n",
       "      <td>0</td>\n",
       "      <td>v</td>\n",
       "      <td>Kenya</td>\n",
       "      <td>Nairobi (Gym)</td>\n",
       "      <td>12 Aug 2006</td>\n",
       "      <td>ODI # 2402</td>\n",
       "    </tr>\n",
       "    <tr>\n",
       "      <th>2</th>\n",
       "      <td>13</td>\n",
       "      <td>1</td>\n",
       "      <td>26</td>\n",
       "      <td>0</td>\n",
       "      <td>0</td>\n",
       "      <td>v</td>\n",
       "      <td>Kenya</td>\n",
       "      <td>Nairobi (Gym)</td>\n",
       "      <td>13 Aug 2006</td>\n",
       "      <td>ODI # 2403</td>\n",
       "    </tr>\n",
       "    <tr>\n",
       "      <th>3</th>\n",
       "      <td>25*</td>\n",
       "      <td>0</td>\n",
       "      <td>28</td>\n",
       "      <td>0</td>\n",
       "      <td>0</td>\n",
       "      <td>v</td>\n",
       "      <td>Kenya</td>\n",
       "      <td>Nairobi (Gym)</td>\n",
       "      <td>15 Aug 2006</td>\n",
       "      <td>ODI # 2404</td>\n",
       "    </tr>\n",
       "    <tr>\n",
       "      <th>4</th>\n",
       "      <td>67*</td>\n",
       "      <td>0</td>\n",
       "      <td>23</td>\n",
       "      <td>0</td>\n",
       "      <td>0</td>\n",
       "      <td>v</td>\n",
       "      <td>Sri Lanka</td>\n",
       "      <td>Mohali</td>\n",
       "      <td>7 Oct 2006</td>\n",
       "      <td>ODI # 2423</td>\n",
       "    </tr>\n",
       "  </tbody>\n",
       "</table>\n",
       "</div>"
      ],
      "text/plain": [
       "   Run Wicket Run_Conceded Catch Stumping  Vs Opposition         Ground  \\\n",
       "0  30*      1           39     0        0  v    Zimbabwe         Harare   \n",
       "1   20      2           32     0        0  v       Kenya  Nairobi (Gym)   \n",
       "2   13      1           26     0        0  v       Kenya  Nairobi (Gym)   \n",
       "3  25*      0           28     0        0  v       Kenya  Nairobi (Gym)   \n",
       "4  67*      0           23     0        0  v   Sri Lanka         Mohali   \n",
       "\n",
       "          Date       I_ODI  \n",
       "0   6 Aug 2006  ODI # 2398  \n",
       "1  12 Aug 2006  ODI # 2402  \n",
       "2  13 Aug 2006  ODI # 2403  \n",
       "3  15 Aug 2006  ODI # 2404  \n",
       "4   7 Oct 2006  ODI # 2423  "
      ]
     },
     "execution_count": 5,
     "metadata": {},
     "output_type": "execute_result"
    }
   ],
   "source": [
    "df.head()"
   ]
  },
  {
   "cell_type": "markdown",
   "metadata": {},
   "source": [
    "এই হলো আমাদের ডেটা ফ্রেমের প্রথম ৫ টি ডেটা । \n",
    "একবার ডেটা পাওয়ার পরে আমরা আর বারবার ডেটা লোড দিবো না ওয়েবপেজ থেকে । তাই আমরা csv ফরম্যাটে ডেটা সেভ করে রাখবো । "
   ]
  },
  {
   "cell_type": "code",
   "execution_count": 6,
   "metadata": {},
   "outputs": [],
   "source": [
    "df.to_csv(\"Data.csv\")"
   ]
  },
  {
   "cell_type": "markdown",
   "metadata": {},
   "source": [
    "এখন টেস্ট করে দেখি আমাদের সিএসভি ফাইলটি লোড করে ঠিক আছে কিনা । "
   ]
  },
  {
   "cell_type": "code",
   "execution_count": 7,
   "metadata": {},
   "outputs": [
    {
     "data": {
      "text/html": [
       "<div>\n",
       "<style scoped>\n",
       "    .dataframe tbody tr th:only-of-type {\n",
       "        vertical-align: middle;\n",
       "    }\n",
       "\n",
       "    .dataframe tbody tr th {\n",
       "        vertical-align: top;\n",
       "    }\n",
       "\n",
       "    .dataframe thead th {\n",
       "        text-align: right;\n",
       "    }\n",
       "</style>\n",
       "<table border=\"1\" class=\"dataframe\">\n",
       "  <thead>\n",
       "    <tr style=\"text-align: right;\">\n",
       "      <th></th>\n",
       "      <th>Run</th>\n",
       "      <th>Wicket</th>\n",
       "      <th>Run_Conceded</th>\n",
       "      <th>Catch</th>\n",
       "      <th>Stumping</th>\n",
       "      <th>Vs</th>\n",
       "      <th>Opposition</th>\n",
       "      <th>Ground</th>\n",
       "      <th>Date</th>\n",
       "      <th>I_ODI</th>\n",
       "    </tr>\n",
       "  </thead>\n",
       "  <tbody>\n",
       "    <tr>\n",
       "      <th>0</th>\n",
       "      <td>30*</td>\n",
       "      <td>1</td>\n",
       "      <td>39</td>\n",
       "      <td>0</td>\n",
       "      <td>0</td>\n",
       "      <td>v</td>\n",
       "      <td>Zimbabwe</td>\n",
       "      <td>Harare</td>\n",
       "      <td>6 Aug 2006</td>\n",
       "      <td>ODI # 2398</td>\n",
       "    </tr>\n",
       "    <tr>\n",
       "      <th>1</th>\n",
       "      <td>20</td>\n",
       "      <td>2</td>\n",
       "      <td>32</td>\n",
       "      <td>0</td>\n",
       "      <td>0</td>\n",
       "      <td>v</td>\n",
       "      <td>Kenya</td>\n",
       "      <td>Nairobi (Gym)</td>\n",
       "      <td>12 Aug 2006</td>\n",
       "      <td>ODI # 2402</td>\n",
       "    </tr>\n",
       "    <tr>\n",
       "      <th>2</th>\n",
       "      <td>13</td>\n",
       "      <td>1</td>\n",
       "      <td>26</td>\n",
       "      <td>0</td>\n",
       "      <td>0</td>\n",
       "      <td>v</td>\n",
       "      <td>Kenya</td>\n",
       "      <td>Nairobi (Gym)</td>\n",
       "      <td>13 Aug 2006</td>\n",
       "      <td>ODI # 2403</td>\n",
       "    </tr>\n",
       "    <tr>\n",
       "      <th>3</th>\n",
       "      <td>25*</td>\n",
       "      <td>0</td>\n",
       "      <td>28</td>\n",
       "      <td>0</td>\n",
       "      <td>0</td>\n",
       "      <td>v</td>\n",
       "      <td>Kenya</td>\n",
       "      <td>Nairobi (Gym)</td>\n",
       "      <td>15 Aug 2006</td>\n",
       "      <td>ODI # 2404</td>\n",
       "    </tr>\n",
       "    <tr>\n",
       "      <th>4</th>\n",
       "      <td>67*</td>\n",
       "      <td>0</td>\n",
       "      <td>23</td>\n",
       "      <td>0</td>\n",
       "      <td>0</td>\n",
       "      <td>v</td>\n",
       "      <td>Sri Lanka</td>\n",
       "      <td>Mohali</td>\n",
       "      <td>7 Oct 2006</td>\n",
       "      <td>ODI # 2423</td>\n",
       "    </tr>\n",
       "  </tbody>\n",
       "</table>\n",
       "</div>"
      ],
      "text/plain": [
       "   Run Wicket Run_Conceded Catch Stumping  Vs Opposition         Ground  \\\n",
       "0  30*      1           39     0        0  v    Zimbabwe         Harare   \n",
       "1   20      2           32     0        0  v       Kenya  Nairobi (Gym)   \n",
       "2   13      1           26     0        0  v       Kenya  Nairobi (Gym)   \n",
       "3  25*      0           28     0        0  v       Kenya  Nairobi (Gym)   \n",
       "4  67*      0           23     0        0  v   Sri Lanka         Mohali   \n",
       "\n",
       "          Date       I_ODI  \n",
       "0   6 Aug 2006  ODI # 2398  \n",
       "1  12 Aug 2006  ODI # 2402  \n",
       "2  13 Aug 2006  ODI # 2403  \n",
       "3  15 Aug 2006  ODI # 2404  \n",
       "4   7 Oct 2006  ODI # 2423  "
      ]
     },
     "execution_count": 7,
     "metadata": {},
     "output_type": "execute_result"
    }
   ],
   "source": [
    "df = pd.read_csv(\"Data.csv\")\n",
    "del df['Unnamed: 0'] #This was the index column from the previous Data Frame\n",
    "df.head()"
   ]
  },
  {
   "cell_type": "markdown",
   "metadata": {},
   "source": [
    "<center><h1>**ডেটা ভিজুয়ালাইজেশন **</h1></center>\n",
    "\n",
    "এখন আমাদের ডেটাসেট এর ডেটা ভিজুয়ালাইজ করে দেখি তাদের ভিতরে সম্পর্ক কিরকম এবং কি টাইপের । "
   ]
  },
  {
   "cell_type": "code",
   "execution_count": 8,
   "metadata": {},
   "outputs": [
    {
     "data": {
      "text/plain": [
       "Run             object\n",
       "Wicket          object\n",
       "Run_Conceded    object\n",
       "Catch           object\n",
       "Stumping        object\n",
       "Vs              object\n",
       "Opposition      object\n",
       "Ground          object\n",
       "Date            object\n",
       "I_ODI           object\n",
       "dtype: object"
      ]
     },
     "execution_count": 8,
     "metadata": {},
     "output_type": "execute_result"
    }
   ],
   "source": [
    "df.dtypes"
   ]
  },
  {
   "cell_type": "markdown",
   "metadata": {},
   "source": [
    "ডেটা ভিজুয়ালাইজ করার আগে আমাদের ডেটাকে একটু ঝালিয়ে নিতে হবে । কারণ এখানে কিছু ডেটাতে প্রবলেম আছে । \n",
    "যেমন যে ম্যাচে সাকিব ব্যাট করেনি সেখানে রানের জায়গায় দেয়া DNB মানে Did Not Bat । এইরকম সব প্রবলেম গুলী সল্ভ করবো এখন । "
   ]
  },
  {
   "cell_type": "code",
   "execution_count": 9,
   "metadata": {},
   "outputs": [
    {
     "data": {
      "text/plain": [
       "Run             float64\n",
       "Wicket           object\n",
       "Run_Conceded     object\n",
       "Catch            object\n",
       "Stumping         object\n",
       "Vs               object\n",
       "Opposition       object\n",
       "Ground           object\n",
       "Date             object\n",
       "I_ODI            object\n",
       "dtype: object"
      ]
     },
     "execution_count": 9,
     "metadata": {},
     "output_type": "execute_result"
    }
   ],
   "source": [
    "to_replace = ['DNB','TDNB','absent']\n",
    "for i in to_replace:\n",
    "    df['Run'] = df['Run'].replace(i,np.nan)\n",
    "\n",
    "df['Run'] = df['Run'].str.replace('*','')\n",
    "df['Run'] = pd.to_numeric(df['Run'] )\n",
    "df.dtypes"
   ]
  },
  {
   "cell_type": "markdown",
   "metadata": {},
   "source": [
    "তো আমাদের রান কলামের খেলা শেষ । এবার বাকি কলাম গুলির পালা । "
   ]
  },
  {
   "cell_type": "code",
   "execution_count": 10,
   "metadata": {},
   "outputs": [
    {
     "data": {
      "text/plain": [
       "Run             float64\n",
       "Wicket          float64\n",
       "Run_Conceded    float64\n",
       "Catch           float64\n",
       "Stumping        float64\n",
       "Vs               object\n",
       "Opposition       object\n",
       "Ground           object\n",
       "Date             object\n",
       "I_ODI            object\n",
       "dtype: object"
      ]
     },
     "execution_count": 10,
     "metadata": {},
     "output_type": "execute_result"
    }
   ],
   "source": [
    "df = df.replace('-',np.nan)\n",
    "df['Wicket'] = pd.to_numeric(df['Wicket'] )\n",
    "df['Run_Conceded'] = pd.to_numeric(df['Run_Conceded'] )\n",
    "df['Catch'] = pd.to_numeric(df['Catch'] )\n",
    "df['Stumping'] = pd.to_numeric(df['Stumping'] )\n",
    "df.dtypes"
   ]
  },
  {
   "cell_type": "markdown",
   "metadata": {},
   "source": [
    "এবার ওডিয়াই নাম্বারের ফরম্যাটটা দেখা যাক । \n",
    "ODI # 2398\n",
    "তো এখান থেকে আমার শুধু লাস্ট চারটা ক্যারেক্টার নিয়ে ইন্টিজারে কনভার্ট করলেই হবে ।"
   ]
  },
  {
   "cell_type": "code",
   "execution_count": 11,
   "metadata": {},
   "outputs": [
    {
     "data": {
      "text/plain": [
       "Run             float64\n",
       "Wicket          float64\n",
       "Run_Conceded    float64\n",
       "Catch           float64\n",
       "Stumping        float64\n",
       "Vs               object\n",
       "Opposition       object\n",
       "Ground           object\n",
       "Date             object\n",
       "I_ODI             int64\n",
       "dtype: object"
      ]
     },
     "execution_count": 11,
     "metadata": {},
     "output_type": "execute_result"
    }
   ],
   "source": [
    "df['I_ODI'] = df['I_ODI'].str.replace('ODI #','')\n",
    "df['I_ODI'] = pd.to_numeric(df['I_ODI'] )\n",
    "df.dtypes"
   ]
  },
  {
   "cell_type": "code",
   "execution_count": 12,
   "metadata": {},
   "outputs": [
    {
     "data": {
      "text/plain": [
       "Run             12\n",
       "Wicket           3\n",
       "Run_Conceded     3\n",
       "Catch            1\n",
       "Stumping         1\n",
       "Vs               0\n",
       "Opposition       0\n",
       "Ground           0\n",
       "Date             0\n",
       "I_ODI            0\n",
       "dtype: int64"
      ]
     },
     "execution_count": 12,
     "metadata": {},
     "output_type": "execute_result"
    }
   ],
   "source": [
    "df.isna().sum()"
   ]
  },
  {
   "cell_type": "code",
   "execution_count": 13,
   "metadata": {},
   "outputs": [
    {
     "data": {
      "text/html": [
       "<div>\n",
       "<style scoped>\n",
       "    .dataframe tbody tr th:only-of-type {\n",
       "        vertical-align: middle;\n",
       "    }\n",
       "\n",
       "    .dataframe tbody tr th {\n",
       "        vertical-align: top;\n",
       "    }\n",
       "\n",
       "    .dataframe thead th {\n",
       "        text-align: right;\n",
       "    }\n",
       "</style>\n",
       "<table border=\"1\" class=\"dataframe\">\n",
       "  <thead>\n",
       "    <tr style=\"text-align: right;\">\n",
       "      <th></th>\n",
       "      <th>Run</th>\n",
       "      <th>Wicket</th>\n",
       "      <th>Run_Conceded</th>\n",
       "      <th>Catch</th>\n",
       "      <th>Stumping</th>\n",
       "      <th>Vs</th>\n",
       "      <th>Opposition</th>\n",
       "      <th>Ground</th>\n",
       "      <th>Date</th>\n",
       "      <th>I_ODI</th>\n",
       "    </tr>\n",
       "  </thead>\n",
       "  <tbody>\n",
       "    <tr>\n",
       "      <th>0</th>\n",
       "      <td>30.0</td>\n",
       "      <td>1.0</td>\n",
       "      <td>39.0</td>\n",
       "      <td>0.0</td>\n",
       "      <td>0.0</td>\n",
       "      <td>v</td>\n",
       "      <td>Zimbabwe</td>\n",
       "      <td>Harare</td>\n",
       "      <td>6 Aug 2006</td>\n",
       "      <td>2398</td>\n",
       "    </tr>\n",
       "    <tr>\n",
       "      <th>1</th>\n",
       "      <td>20.0</td>\n",
       "      <td>2.0</td>\n",
       "      <td>32.0</td>\n",
       "      <td>0.0</td>\n",
       "      <td>0.0</td>\n",
       "      <td>v</td>\n",
       "      <td>Kenya</td>\n",
       "      <td>Nairobi (Gym)</td>\n",
       "      <td>12 Aug 2006</td>\n",
       "      <td>2402</td>\n",
       "    </tr>\n",
       "    <tr>\n",
       "      <th>2</th>\n",
       "      <td>13.0</td>\n",
       "      <td>1.0</td>\n",
       "      <td>26.0</td>\n",
       "      <td>0.0</td>\n",
       "      <td>0.0</td>\n",
       "      <td>v</td>\n",
       "      <td>Kenya</td>\n",
       "      <td>Nairobi (Gym)</td>\n",
       "      <td>13 Aug 2006</td>\n",
       "      <td>2403</td>\n",
       "    </tr>\n",
       "    <tr>\n",
       "      <th>3</th>\n",
       "      <td>25.0</td>\n",
       "      <td>0.0</td>\n",
       "      <td>28.0</td>\n",
       "      <td>0.0</td>\n",
       "      <td>0.0</td>\n",
       "      <td>v</td>\n",
       "      <td>Kenya</td>\n",
       "      <td>Nairobi (Gym)</td>\n",
       "      <td>15 Aug 2006</td>\n",
       "      <td>2404</td>\n",
       "    </tr>\n",
       "    <tr>\n",
       "      <th>4</th>\n",
       "      <td>67.0</td>\n",
       "      <td>0.0</td>\n",
       "      <td>23.0</td>\n",
       "      <td>0.0</td>\n",
       "      <td>0.0</td>\n",
       "      <td>v</td>\n",
       "      <td>Sri Lanka</td>\n",
       "      <td>Mohali</td>\n",
       "      <td>7 Oct 2006</td>\n",
       "      <td>2423</td>\n",
       "    </tr>\n",
       "  </tbody>\n",
       "</table>\n",
       "</div>"
      ],
      "text/plain": [
       "    Run  Wicket  Run_Conceded  Catch  Stumping  Vs Opposition         Ground  \\\n",
       "0  30.0     1.0          39.0    0.0       0.0  v    Zimbabwe         Harare   \n",
       "1  20.0     2.0          32.0    0.0       0.0  v       Kenya  Nairobi (Gym)   \n",
       "2  13.0     1.0          26.0    0.0       0.0  v       Kenya  Nairobi (Gym)   \n",
       "3  25.0     0.0          28.0    0.0       0.0  v       Kenya  Nairobi (Gym)   \n",
       "4  67.0     0.0          23.0    0.0       0.0  v   Sri Lanka         Mohali   \n",
       "\n",
       "          Date  I_ODI  \n",
       "0   6 Aug 2006   2398  \n",
       "1  12 Aug 2006   2402  \n",
       "2  13 Aug 2006   2403  \n",
       "3  15 Aug 2006   2404  \n",
       "4   7 Oct 2006   2423  "
      ]
     },
     "execution_count": 13,
     "metadata": {},
     "output_type": "execute_result"
    }
   ],
   "source": [
    "df.head()"
   ]
  },
  {
   "cell_type": "code",
   "execution_count": 14,
   "metadata": {},
   "outputs": [
    {
     "data": {
      "image/png": "[encoded data removed]",
      "text/plain": [
       "<Figure size 576x360 with 1 Axes>"
      ]
     },
     "metadata": {
      "needs_background": "light"
     },
     "output_type": "display_data"
    }
   ],
   "source": [
    "plt.figure(figsize=(8,5))\n",
    "\n",
    "plot = sns.scatterplot(x=df[\"Run\"],\n",
    "                       y=df[\"Run_Conceded\"])"
   ]
  },
  {
   "cell_type": "code",
   "execution_count": 15,
   "metadata": {},
   "outputs": [
    {
     "data": {
      "image/png": "[encoded data removed]",
      "text/plain": [
       "<Figure size 576x360 with 1 Axes>"
      ]
     },
     "metadata": {
      "needs_background": "light"
     },
     "output_type": "display_data"
    }
   ],
   "source": [
    "plt.figure(figsize=(8,5))\n",
    "\n",
    "plot = sns.scatterplot(x=df[\"Wicket\"],\n",
    "                       y=df[\"Catch\"])"
   ]
  },
  {
   "cell_type": "code",
   "execution_count": 16,
   "metadata": {},
   "outputs": [
    {
     "data": {
      "image/png": "[encoded data removed]",
      "text/plain": [
       "<Figure size 432x288 with 1 Axes>"
      ]
     },
     "metadata": {
      "needs_background": "light"
     },
     "output_type": "display_data"
    }
   ],
   "source": [
    "plot = sns.distplot(df[\"Run\"],\n",
    "                    hist=True)"
   ]
  },
  {
   "cell_type": "code",
   "execution_count": 17,
   "metadata": {},
   "outputs": [
    {
     "data": {
      "image/png": "[encoded data removed]",
      "text/plain": [
       "<Figure size 432x288 with 1 Axes>"
      ]
     },
     "metadata": {
      "needs_background": "light"
     },
     "output_type": "display_data"
    }
   ],
   "source": [
    "plot = sns.distplot(df[\"Wicket\"],\n",
    "                    hist=True)"
   ]
  },
  {
   "cell_type": "code",
   "execution_count": 18,
   "metadata": {},
   "outputs": [
    {
     "data": {
      "image/png": "[encoded data removed]",
      "text/plain": [
       "<Figure size 432x288 with 1 Axes>"
      ]
     },
     "metadata": {
      "needs_background": "light"
     },
     "output_type": "display_data"
    }
   ],
   "source": [
    "plot = sns.distplot(df[\"Run_Conceded\"],\n",
    "                    hist=True)"
   ]
  },
  {
   "cell_type": "code",
   "execution_count": 19,
   "metadata": {},
   "outputs": [
    {
     "data": {
      "image/png": "[encoded data removed]",
      "text/plain": [
       "<Figure size 432x432 with 3 Axes>"
      ]
     },
     "metadata": {
      "needs_background": "light"
     },
     "output_type": "display_data"
    }
   ],
   "source": [
    "plot = sns.jointplot(x=df[\"Run\"],\n",
    "                     y=df[\"Wicket\"],\n",
    "                     kind='reg')"
   ]
  },
  {
   "cell_type": "code",
   "execution_count": 24,
   "metadata": {},
   "outputs": [
    {
     "data": {
      "image/png": "[encoded data removed]",
      "text/plain": [
       "<Figure size 432x360 with 2 Axes>"
      ]
     },
     "metadata": {
      "needs_background": "light"
     },
     "output_type": "display_data"
    }
   ],
   "source": [
    "corr_mtx = df.corr()\n",
    "corr_mtx\n",
    "plt.figure(figsize=(6,5))\n",
    "plot = sns.heatmap(corr_mtx, annot=True, fmt=\".2f\")"
   ]
  },
  {
   "cell_type": "code",
   "execution_count": 25,
   "metadata": {},
   "outputs": [
    {
     "data": {
      "text/html": [
       "<div>\n",
       "<style scoped>\n",
       "    .dataframe tbody tr th:only-of-type {\n",
       "        vertical-align: middle;\n",
       "    }\n",
       "\n",
       "    .dataframe tbody tr th {\n",
       "        vertical-align: top;\n",
       "    }\n",
       "\n",
       "    .dataframe thead th {\n",
       "        text-align: right;\n",
       "    }\n",
       "</style>\n",
       "<table border=\"1\" class=\"dataframe\">\n",
       "  <thead>\n",
       "    <tr style=\"text-align: right;\">\n",
       "      <th></th>\n",
       "      <th>Run</th>\n",
       "      <th>Wicket</th>\n",
       "      <th>Run_Conceded</th>\n",
       "      <th>Catch</th>\n",
       "      <th>Stumping</th>\n",
       "      <th>Vs</th>\n",
       "      <th>Opposition</th>\n",
       "      <th>Ground</th>\n",
       "      <th>Date</th>\n",
       "      <th>I_ODI</th>\n",
       "    </tr>\n",
       "  </thead>\n",
       "  <tbody>\n",
       "    <tr>\n",
       "      <th>0</th>\n",
       "      <td>30.0</td>\n",
       "      <td>1.0</td>\n",
       "      <td>39.0</td>\n",
       "      <td>0.0</td>\n",
       "      <td>0.0</td>\n",
       "      <td>v</td>\n",
       "      <td>Zimbabwe</td>\n",
       "      <td>Harare</td>\n",
       "      <td>6 Aug 2006</td>\n",
       "      <td>2398</td>\n",
       "    </tr>\n",
       "    <tr>\n",
       "      <th>1</th>\n",
       "      <td>20.0</td>\n",
       "      <td>2.0</td>\n",
       "      <td>32.0</td>\n",
       "      <td>0.0</td>\n",
       "      <td>0.0</td>\n",
       "      <td>v</td>\n",
       "      <td>Kenya</td>\n",
       "      <td>Nairobi (Gym)</td>\n",
       "      <td>12 Aug 2006</td>\n",
       "      <td>2402</td>\n",
       "    </tr>\n",
       "    <tr>\n",
       "      <th>2</th>\n",
       "      <td>13.0</td>\n",
       "      <td>1.0</td>\n",
       "      <td>26.0</td>\n",
       "      <td>0.0</td>\n",
       "      <td>0.0</td>\n",
       "      <td>v</td>\n",
       "      <td>Kenya</td>\n",
       "      <td>Nairobi (Gym)</td>\n",
       "      <td>13 Aug 2006</td>\n",
       "      <td>2403</td>\n",
       "    </tr>\n",
       "    <tr>\n",
       "      <th>3</th>\n",
       "      <td>25.0</td>\n",
       "      <td>0.0</td>\n",
       "      <td>28.0</td>\n",
       "      <td>0.0</td>\n",
       "      <td>0.0</td>\n",
       "      <td>v</td>\n",
       "      <td>Kenya</td>\n",
       "      <td>Nairobi (Gym)</td>\n",
       "      <td>15 Aug 2006</td>\n",
       "      <td>2404</td>\n",
       "    </tr>\n",
       "    <tr>\n",
       "      <th>4</th>\n",
       "      <td>67.0</td>\n",
       "      <td>0.0</td>\n",
       "      <td>23.0</td>\n",
       "      <td>0.0</td>\n",
       "      <td>0.0</td>\n",
       "      <td>v</td>\n",
       "      <td>Sri Lanka</td>\n",
       "      <td>Mohali</td>\n",
       "      <td>7 Oct 2006</td>\n",
       "      <td>2423</td>\n",
       "    </tr>\n",
       "  </tbody>\n",
       "</table>\n",
       "</div>"
      ],
      "text/plain": [
       "    Run  Wicket  Run_Conceded  Catch  Stumping  Vs Opposition         Ground  \\\n",
       "0  30.0     1.0          39.0    0.0       0.0  v    Zimbabwe         Harare   \n",
       "1  20.0     2.0          32.0    0.0       0.0  v       Kenya  Nairobi (Gym)   \n",
       "2  13.0     1.0          26.0    0.0       0.0  v       Kenya  Nairobi (Gym)   \n",
       "3  25.0     0.0          28.0    0.0       0.0  v       Kenya  Nairobi (Gym)   \n",
       "4  67.0     0.0          23.0    0.0       0.0  v   Sri Lanka         Mohali   \n",
       "\n",
       "          Date  I_ODI  \n",
       "0   6 Aug 2006   2398  \n",
       "1  12 Aug 2006   2402  \n",
       "2  13 Aug 2006   2403  \n",
       "3  15 Aug 2006   2404  \n",
       "4   7 Oct 2006   2423  "
      ]
     },
     "execution_count": 25,
     "metadata": {},
     "output_type": "execute_result"
    }
   ],
   "source": [
    "def constant_features(data, num_features, cat_features):\n",
    "    const_feat_num = [feat for feat in num_features if data[feat].std()==0]\n",
    "    const_feat_cat = [feat for feat in cat_features if len(data[feat].unique())==1]\n",
    "    return (const_feat_num+const_feat_cat)\n",
    "df.head()"
   ]
  },
  {
   "cell_type": "code",
   "execution_count": 26,
   "metadata": {},
   "outputs": [
    {
     "data": {
      "text/html": [
       "<div>\n",
       "<style scoped>\n",
       "    .dataframe tbody tr th:only-of-type {\n",
       "        vertical-align: middle;\n",
       "    }\n",
       "\n",
       "    .dataframe tbody tr th {\n",
       "        vertical-align: top;\n",
       "    }\n",
       "\n",
       "    .dataframe thead th {\n",
       "        text-align: right;\n",
       "    }\n",
       "</style>\n",
       "<table border=\"1\" class=\"dataframe\">\n",
       "  <thead>\n",
       "    <tr style=\"text-align: right;\">\n",
       "      <th></th>\n",
       "      <th>Run</th>\n",
       "      <th>Wicket</th>\n",
       "      <th>Run_Conceded</th>\n",
       "      <th>Catch</th>\n",
       "      <th>Opposition</th>\n",
       "      <th>Ground</th>\n",
       "      <th>Date</th>\n",
       "      <th>I_ODI</th>\n",
       "    </tr>\n",
       "  </thead>\n",
       "  <tbody>\n",
       "    <tr>\n",
       "      <th>0</th>\n",
       "      <td>30.0</td>\n",
       "      <td>1.0</td>\n",
       "      <td>39.0</td>\n",
       "      <td>0.0</td>\n",
       "      <td>Zimbabwe</td>\n",
       "      <td>Harare</td>\n",
       "      <td>6 Aug 2006</td>\n",
       "      <td>2398</td>\n",
       "    </tr>\n",
       "    <tr>\n",
       "      <th>1</th>\n",
       "      <td>20.0</td>\n",
       "      <td>2.0</td>\n",
       "      <td>32.0</td>\n",
       "      <td>0.0</td>\n",
       "      <td>Kenya</td>\n",
       "      <td>Nairobi (Gym)</td>\n",
       "      <td>12 Aug 2006</td>\n",
       "      <td>2402</td>\n",
       "    </tr>\n",
       "    <tr>\n",
       "      <th>2</th>\n",
       "      <td>13.0</td>\n",
       "      <td>1.0</td>\n",
       "      <td>26.0</td>\n",
       "      <td>0.0</td>\n",
       "      <td>Kenya</td>\n",
       "      <td>Nairobi (Gym)</td>\n",
       "      <td>13 Aug 2006</td>\n",
       "      <td>2403</td>\n",
       "    </tr>\n",
       "    <tr>\n",
       "      <th>3</th>\n",
       "      <td>25.0</td>\n",
       "      <td>0.0</td>\n",
       "      <td>28.0</td>\n",
       "      <td>0.0</td>\n",
       "      <td>Kenya</td>\n",
       "      <td>Nairobi (Gym)</td>\n",
       "      <td>15 Aug 2006</td>\n",
       "      <td>2404</td>\n",
       "    </tr>\n",
       "    <tr>\n",
       "      <th>4</th>\n",
       "      <td>67.0</td>\n",
       "      <td>0.0</td>\n",
       "      <td>23.0</td>\n",
       "      <td>0.0</td>\n",
       "      <td>Sri Lanka</td>\n",
       "      <td>Mohali</td>\n",
       "      <td>7 Oct 2006</td>\n",
       "      <td>2423</td>\n",
       "    </tr>\n",
       "  </tbody>\n",
       "</table>\n",
       "</div>"
      ],
      "text/plain": [
       "    Run  Wicket  Run_Conceded  Catch Opposition         Ground         Date  \\\n",
       "0  30.0     1.0          39.0    0.0   Zimbabwe         Harare   6 Aug 2006   \n",
       "1  20.0     2.0          32.0    0.0      Kenya  Nairobi (Gym)  12 Aug 2006   \n",
       "2  13.0     1.0          26.0    0.0      Kenya  Nairobi (Gym)  13 Aug 2006   \n",
       "3  25.0     0.0          28.0    0.0      Kenya  Nairobi (Gym)  15 Aug 2006   \n",
       "4  67.0     0.0          23.0    0.0  Sri Lanka         Mohali   7 Oct 2006   \n",
       "\n",
       "   I_ODI  \n",
       "0   2398  \n",
       "1   2402  \n",
       "2   2403  \n",
       "3   2404  \n",
       "4   2423  "
      ]
     },
     "execution_count": 26,
     "metadata": {},
     "output_type": "execute_result"
    }
   ],
   "source": [
    "con_f = constant_features(df, ['Catch','Stumping','Run_Conceded','Run','Wicket','I_ODI'],['Vs','Ground','Date','Opposition'])\n",
    "for f in con_f:\n",
    "    del df[f]\n",
    "df.head()"
   ]
  },
  {
   "cell_type": "code",
   "execution_count": 27,
   "metadata": {},
   "outputs": [
    {
     "data": {
      "text/plain": [
       "array(['Zimbabwe', 'Kenya', 'Sri Lanka', 'West Indies', 'Scotland',\n",
       "       'Bermuda', 'Canada', 'India', 'Australia', 'New Zealand',\n",
       "       'South Africa', 'England', 'Ireland', 'Pakistan', 'Netherlands',\n",
       "       'Afghanistan'], dtype=object)"
      ]
     },
     "execution_count": 27,
     "metadata": {},
     "output_type": "execute_result"
    }
   ],
   "source": [
    "df['Opposition'].unique()"
   ]
  },
  {
   "cell_type": "code",
   "execution_count": 28,
   "metadata": {},
   "outputs": [
    {
     "data": {
      "text/html": [
       "<div>\n",
       "<style scoped>\n",
       "    .dataframe tbody tr th:only-of-type {\n",
       "        vertical-align: middle;\n",
       "    }\n",
       "\n",
       "    .dataframe tbody tr th {\n",
       "        vertical-align: top;\n",
       "    }\n",
       "\n",
       "    .dataframe thead th {\n",
       "        text-align: right;\n",
       "    }\n",
       "</style>\n",
       "<table border=\"1\" class=\"dataframe\">\n",
       "  <thead>\n",
       "    <tr style=\"text-align: right;\">\n",
       "      <th></th>\n",
       "      <th>Run</th>\n",
       "      <th>Wicket</th>\n",
       "      <th>Run_Conceded</th>\n",
       "      <th>Catch</th>\n",
       "      <th>Opposition</th>\n",
       "      <th>Ground</th>\n",
       "      <th>Date</th>\n",
       "      <th>I_ODI</th>\n",
       "    </tr>\n",
       "  </thead>\n",
       "  <tbody>\n",
       "    <tr>\n",
       "      <th>0</th>\n",
       "      <td>30.0</td>\n",
       "      <td>1.0</td>\n",
       "      <td>39.0</td>\n",
       "      <td>0.0</td>\n",
       "      <td>Average</td>\n",
       "      <td>Harare</td>\n",
       "      <td>6 Aug 2006</td>\n",
       "      <td>2398</td>\n",
       "    </tr>\n",
       "    <tr>\n",
       "      <th>1</th>\n",
       "      <td>20.0</td>\n",
       "      <td>2.0</td>\n",
       "      <td>32.0</td>\n",
       "      <td>0.0</td>\n",
       "      <td>Satisfactory</td>\n",
       "      <td>Nairobi (Gym)</td>\n",
       "      <td>12 Aug 2006</td>\n",
       "      <td>2402</td>\n",
       "    </tr>\n",
       "    <tr>\n",
       "      <th>2</th>\n",
       "      <td>13.0</td>\n",
       "      <td>1.0</td>\n",
       "      <td>26.0</td>\n",
       "      <td>0.0</td>\n",
       "      <td>Satisfactory</td>\n",
       "      <td>Nairobi (Gym)</td>\n",
       "      <td>13 Aug 2006</td>\n",
       "      <td>2403</td>\n",
       "    </tr>\n",
       "    <tr>\n",
       "      <th>3</th>\n",
       "      <td>25.0</td>\n",
       "      <td>0.0</td>\n",
       "      <td>28.0</td>\n",
       "      <td>0.0</td>\n",
       "      <td>Satisfactory</td>\n",
       "      <td>Nairobi (Gym)</td>\n",
       "      <td>15 Aug 2006</td>\n",
       "      <td>2404</td>\n",
       "    </tr>\n",
       "    <tr>\n",
       "      <th>4</th>\n",
       "      <td>67.0</td>\n",
       "      <td>0.0</td>\n",
       "      <td>23.0</td>\n",
       "      <td>0.0</td>\n",
       "      <td>Good</td>\n",
       "      <td>Mohali</td>\n",
       "      <td>7 Oct 2006</td>\n",
       "      <td>2423</td>\n",
       "    </tr>\n",
       "  </tbody>\n",
       "</table>\n",
       "</div>"
      ],
      "text/plain": [
       "    Run  Wicket  Run_Conceded  Catch    Opposition         Ground  \\\n",
       "0  30.0     1.0          39.0    0.0       Average         Harare   \n",
       "1  20.0     2.0          32.0    0.0  Satisfactory  Nairobi (Gym)   \n",
       "2  13.0     1.0          26.0    0.0  Satisfactory  Nairobi (Gym)   \n",
       "3  25.0     0.0          28.0    0.0  Satisfactory  Nairobi (Gym)   \n",
       "4  67.0     0.0          23.0    0.0          Good         Mohali   \n",
       "\n",
       "          Date  I_ODI  \n",
       "0   6 Aug 2006   2398  \n",
       "1  12 Aug 2006   2402  \n",
       "2  13 Aug 2006   2403  \n",
       "3  15 Aug 2006   2404  \n",
       "4   7 Oct 2006   2423  "
      ]
     },
     "execution_count": 28,
     "metadata": {},
     "output_type": "execute_result"
    }
   ],
   "source": [
    "Best = ['England','India','New Zealand','South Africa']\n",
    "Good = ['Australia','Pakistan','Sri Lanka','West Indies']\n",
    "Average = ['Afghanistan','Zimbabwe','Netherlands','Ireland']\n",
    "Satisfactory = ['Kenya', 'Bermuda','Canada','Scotland']\n",
    "\n",
    "for B in Best:\n",
    "    for i in range(len(df['Opposition'])):\n",
    "        if df['Opposition'].iloc[i]== B:\n",
    "            df['Opposition'].iloc[i] = \"Best\"\n",
    "for G in Good:\n",
    "    for i in range(len(df['Opposition'])):\n",
    "        if df['Opposition'].iloc[i]== G:\n",
    "            df['Opposition'].iloc[i] = \"Good\"\n",
    "for A in Average:\n",
    "    for i in range(len(df['Opposition'])):\n",
    "        if df['Opposition'].iloc[i]== A:\n",
    "            df['Opposition'].iloc[i] = \"Average\"\n",
    "for S in Satisfactory:\n",
    "    for i in range(len(df['Opposition'])):\n",
    "        if df['Opposition'].iloc[i]== S:\n",
    "            df['Opposition'].iloc[i] = \"Satisfactory\"\n",
    "df.head(5)"
   ]
  },
  {
   "cell_type": "code",
   "execution_count": 29,
   "metadata": {},
   "outputs": [
    {
     "data": {
      "text/plain": [
       "array(['Harare', 'Nairobi (Gym)', 'Mohali', 'Jaipur', 'Khulna', 'Bogra',\n",
       "       'Dhaka', 'Chattogram', \"St John's\", 'Port of Spain', 'North Sound',\n",
       "       'Providence', 'Bridgetown', 'Colombo (PSS)', 'Colombo (RPS)',\n",
       "       'Auckland', 'Napier', 'Queenstown', 'Lahore', 'Faisalabad',\n",
       "       'Multan', 'Karachi', 'Darwin', 'Potchefstroom', 'Benoni', 'Roseau',\n",
       "       'Basseterre', 'Bulawayo', 'Dunedin', 'Christchurch', 'Dambulla',\n",
       "       'Nottingham', 'Bristol', 'Birmingham', 'Belfast', 'Glasgow',\n",
       "       'Canberra', 'Melbourne', 'Nelson', 'Adelaide', 'Hamilton',\n",
       "       'Colombo (SSC)', 'Dublin (Malahide)', 'Dublin', 'The Oval',\n",
       "       'Cardiff', 'Kimberley', 'Paarl', 'East London', 'Dubai (DSC)',\n",
       "       'Abu Dhabi', 'Sylhet', 'Taunton', 'Southampton', \"Lord's\"],\n",
       "      dtype=object)"
      ]
     },
     "execution_count": 29,
     "metadata": {},
     "output_type": "execute_result"
    }
   ],
   "source": [
    "all_ground = df['Ground'].unique()\n",
    "all_ground"
   ]
  },
  {
   "cell_type": "code",
   "execution_count": 30,
   "metadata": {},
   "outputs": [
    {
     "data": {
      "text/html": [
       "<div>\n",
       "<style scoped>\n",
       "    .dataframe tbody tr th:only-of-type {\n",
       "        vertical-align: middle;\n",
       "    }\n",
       "\n",
       "    .dataframe tbody tr th {\n",
       "        vertical-align: top;\n",
       "    }\n",
       "\n",
       "    .dataframe thead th {\n",
       "        text-align: right;\n",
       "    }\n",
       "</style>\n",
       "<table border=\"1\" class=\"dataframe\">\n",
       "  <thead>\n",
       "    <tr style=\"text-align: right;\">\n",
       "      <th></th>\n",
       "      <th>Run</th>\n",
       "      <th>Wicket</th>\n",
       "      <th>Run_Conceded</th>\n",
       "      <th>Catch</th>\n",
       "      <th>Opposition</th>\n",
       "      <th>Ground</th>\n",
       "      <th>Date</th>\n",
       "      <th>I_ODI</th>\n",
       "    </tr>\n",
       "  </thead>\n",
       "  <tbody>\n",
       "    <tr>\n",
       "      <th>0</th>\n",
       "      <td>30.0</td>\n",
       "      <td>1.0</td>\n",
       "      <td>39.0</td>\n",
       "      <td>0.0</td>\n",
       "      <td>Average</td>\n",
       "      <td>Abroad Ground</td>\n",
       "      <td>6 Aug 2006</td>\n",
       "      <td>2398</td>\n",
       "    </tr>\n",
       "    <tr>\n",
       "      <th>1</th>\n",
       "      <td>20.0</td>\n",
       "      <td>2.0</td>\n",
       "      <td>32.0</td>\n",
       "      <td>0.0</td>\n",
       "      <td>Satisfactory</td>\n",
       "      <td>Abroad Ground</td>\n",
       "      <td>12 Aug 2006</td>\n",
       "      <td>2402</td>\n",
       "    </tr>\n",
       "    <tr>\n",
       "      <th>2</th>\n",
       "      <td>13.0</td>\n",
       "      <td>1.0</td>\n",
       "      <td>26.0</td>\n",
       "      <td>0.0</td>\n",
       "      <td>Satisfactory</td>\n",
       "      <td>Abroad Ground</td>\n",
       "      <td>13 Aug 2006</td>\n",
       "      <td>2403</td>\n",
       "    </tr>\n",
       "    <tr>\n",
       "      <th>3</th>\n",
       "      <td>25.0</td>\n",
       "      <td>0.0</td>\n",
       "      <td>28.0</td>\n",
       "      <td>0.0</td>\n",
       "      <td>Satisfactory</td>\n",
       "      <td>Abroad Ground</td>\n",
       "      <td>15 Aug 2006</td>\n",
       "      <td>2404</td>\n",
       "    </tr>\n",
       "    <tr>\n",
       "      <th>4</th>\n",
       "      <td>67.0</td>\n",
       "      <td>0.0</td>\n",
       "      <td>23.0</td>\n",
       "      <td>0.0</td>\n",
       "      <td>Good</td>\n",
       "      <td>Abroad Ground</td>\n",
       "      <td>7 Oct 2006</td>\n",
       "      <td>2423</td>\n",
       "    </tr>\n",
       "    <tr>\n",
       "      <th>5</th>\n",
       "      <td>0.0</td>\n",
       "      <td>0.0</td>\n",
       "      <td>12.0</td>\n",
       "      <td>0.0</td>\n",
       "      <td>Good</td>\n",
       "      <td>Abroad Ground</td>\n",
       "      <td>11 Oct 2006</td>\n",
       "      <td>2426</td>\n",
       "    </tr>\n",
       "    <tr>\n",
       "      <th>6</th>\n",
       "      <td>36.0</td>\n",
       "      <td>3.0</td>\n",
       "      <td>18.0</td>\n",
       "      <td>1.0</td>\n",
       "      <td>Average</td>\n",
       "      <td>Abroad Ground</td>\n",
       "      <td>13 Oct 2006</td>\n",
       "      <td>2427</td>\n",
       "    </tr>\n",
       "    <tr>\n",
       "      <th>7</th>\n",
       "      <td>NaN</td>\n",
       "      <td>2.0</td>\n",
       "      <td>30.0</td>\n",
       "      <td>0.0</td>\n",
       "      <td>Average</td>\n",
       "      <td>Home Ground</td>\n",
       "      <td>30 Nov 2006</td>\n",
       "      <td>2453</td>\n",
       "    </tr>\n",
       "    <tr>\n",
       "      <th>8</th>\n",
       "      <td>36.0</td>\n",
       "      <td>2.0</td>\n",
       "      <td>44.0</td>\n",
       "      <td>0.0</td>\n",
       "      <td>Average</td>\n",
       "      <td>Home Ground</td>\n",
       "      <td>3 Dec 2006</td>\n",
       "      <td>2457</td>\n",
       "    </tr>\n",
       "    <tr>\n",
       "      <th>9</th>\n",
       "      <td>26.0</td>\n",
       "      <td>0.0</td>\n",
       "      <td>40.0</td>\n",
       "      <td>1.0</td>\n",
       "      <td>Average</td>\n",
       "      <td>Home Ground</td>\n",
       "      <td>5 Dec 2006</td>\n",
       "      <td>2459</td>\n",
       "    </tr>\n",
       "  </tbody>\n",
       "</table>\n",
       "</div>"
      ],
      "text/plain": [
       "    Run  Wicket  Run_Conceded  Catch    Opposition         Ground  \\\n",
       "0  30.0     1.0          39.0    0.0       Average  Abroad Ground   \n",
       "1  20.0     2.0          32.0    0.0  Satisfactory  Abroad Ground   \n",
       "2  13.0     1.0          26.0    0.0  Satisfactory  Abroad Ground   \n",
       "3  25.0     0.0          28.0    0.0  Satisfactory  Abroad Ground   \n",
       "4  67.0     0.0          23.0    0.0          Good  Abroad Ground   \n",
       "5   0.0     0.0          12.0    0.0          Good  Abroad Ground   \n",
       "6  36.0     3.0          18.0    1.0       Average  Abroad Ground   \n",
       "7   NaN     2.0          30.0    0.0       Average    Home Ground   \n",
       "8  36.0     2.0          44.0    0.0       Average    Home Ground   \n",
       "9  26.0     0.0          40.0    1.0       Average    Home Ground   \n",
       "\n",
       "          Date  I_ODI  \n",
       "0   6 Aug 2006   2398  \n",
       "1  12 Aug 2006   2402  \n",
       "2  13 Aug 2006   2403  \n",
       "3  15 Aug 2006   2404  \n",
       "4   7 Oct 2006   2423  \n",
       "5  11 Oct 2006   2426  \n",
       "6  13 Oct 2006   2427  \n",
       "7  30 Nov 2006   2453  \n",
       "8   3 Dec 2006   2457  \n",
       "9   5 Dec 2006   2459  "
      ]
     },
     "execution_count": 30,
     "metadata": {},
     "output_type": "execute_result"
    }
   ],
   "source": [
    "inside_g = ['Dhaka','Chattogram','Khulna','Bogra','Sylhet']\n",
    "outside_g = []\n",
    "for g in all_ground:\n",
    "    if g not in inside_g:\n",
    "        outside_g.append(g)\n",
    "for ig in inside_g:\n",
    "    for i in range(len(df['Ground'])):\n",
    "        if df['Ground'].iloc[i]== ig:\n",
    "            df['Ground'].iloc[i] = \"Home Ground\"\n",
    "for og in outside_g:\n",
    "    for i in range(len(df['Ground'])):\n",
    "        if df['Ground'].iloc[i]== og:\n",
    "            df['Ground'].iloc[i] = \"Abroad Ground\"\n",
    "df.head(10)"
   ]
  },
  {
   "cell_type": "code",
   "execution_count": 31,
   "metadata": {},
   "outputs": [
    {
     "data": {
      "text/plain": [
       "Run             0\n",
       "Wicket          0\n",
       "Run_Conceded    0\n",
       "Catch           0\n",
       "Opposition      0\n",
       "Ground          0\n",
       "Date            0\n",
       "I_ODI           0\n",
       "dtype: int64"
      ]
     },
     "execution_count": 31,
     "metadata": {},
     "output_type": "execute_result"
    }
   ],
   "source": [
    "Numerical = ['Run','Wicket','Run_Conceded','Catch','I_ODI']\n",
    "for n in Numerical:\n",
    "    df[n].fillna(df[n].median(),inplace=True)\n",
    "df.isna().sum()"
   ]
  },
  {
   "cell_type": "code",
   "execution_count": 32,
   "metadata": {},
   "outputs": [],
   "source": [
    "df.to_csv(\"Copy.csv\")"
   ]
  },
  {
   "cell_type": "markdown",
   "metadata": {},
   "source": [
    "নাল ভ্যালু বের করে নাল গুলো রিপ্লেস করাও হয়ে গেলো । এবার দেখি ডেটাসেটের ডেস্ক্রিপশন ।"
   ]
  },
  {
   "cell_type": "code",
   "execution_count": 33,
   "metadata": {
    "scrolled": true
   },
   "outputs": [
    {
     "data": {
      "text/plain": [
       "Run             float64\n",
       "Wicket          float64\n",
       "Run_Conceded    float64\n",
       "Catch           float64\n",
       "Opposition       object\n",
       "Ground           object\n",
       "Date             object\n",
       "I_ODI             int64\n",
       "dtype: object"
      ]
     },
     "execution_count": 33,
     "metadata": {},
     "output_type": "execute_result"
    }
   ],
   "source": [
    "df.dtypes"
   ]
  },
  {
   "cell_type": "code",
   "execution_count": 35,
   "metadata": {},
   "outputs": [
    {
     "data": {
      "image/png": "[encoded data removed]",
      "text/plain": [
       "<Figure size 432x288 with 1 Axes>"
      ]
     },
     "metadata": {
      "needs_background": "light"
     },
     "output_type": "display_data"
    }
   ],
   "source": [
    "plot = sns.boxplot(df[\"Run\"])"
   ]
  },
  {
   "cell_type": "code",
   "execution_count": 36,
   "metadata": {
    "scrolled": true
   },
   "outputs": [
    {
     "data": {
      "image/png": "[encoded data removed]",
      "text/plain": [
       "<Figure size 432x288 with 1 Axes>"
      ]
     },
     "metadata": {
      "needs_background": "light"
     },
     "output_type": "display_data"
    }
   ],
   "source": [
    "plot = sns.boxplot(df[\"Wicket\"])"
   ]
  },
  {
   "cell_type": "code",
   "execution_count": 37,
   "metadata": {
    "scrolled": true
   },
   "outputs": [
    {
     "data": {
      "image/png": "[encoded data removed]",
      "text/plain": [
       "<Figure size 432x288 with 1 Axes>"
      ]
     },
     "metadata": {
      "needs_background": "light"
     },
     "output_type": "display_data"
    }
   ],
   "source": [
    "plot = sns.boxplot(df[\"Run_Conceded\"])"
   ]
  },
  {
   "cell_type": "code",
   "execution_count": 38,
   "metadata": {
    "scrolled": true
   },
   "outputs": [
    {
     "data": {
      "image/png": "[encoded data removed]",
      "text/plain": [
       "<Figure size 432x288 with 1 Axes>"
      ]
     },
     "metadata": {
      "needs_background": "light"
     },
     "output_type": "display_data"
    }
   ],
   "source": [
    "plot = sns.boxplot(df[\"Catch\"])"
   ]
  },
  {
   "cell_type": "code",
   "execution_count": 39,
   "metadata": {},
   "outputs": [],
   "source": [
    "def detect_outlier(feature):\n",
    "    Q1 = feature.quantile(0.25)\n",
    "    Q3 = feature.quantile(0.75)\n",
    "    \n",
    "    IQR = Q3-Q1\n",
    "    \n",
    "    lower_bound = Q1-(1.5*IQR)\n",
    "    upper_bound = Q3+(1.5*IQR)\n",
    "    \n",
    "    return feature.index[(feature<lower_bound)|(feature>upper_bound)].tolist()"
   ]
  },
  {
   "cell_type": "code",
   "execution_count": 41,
   "metadata": {},
   "outputs": [],
   "source": [
    "for col in Numerical:\n",
    "    indx = detect_outlier(df[col])\n",
    "    df[col].loc[indx] = df[col].median()"
   ]
  },
  {
   "cell_type": "code",
   "execution_count": 42,
   "metadata": {
    "scrolled": true
   },
   "outputs": [
    {
     "data": {
      "image/png": "[encoded data removed]",
      "text/plain": [
       "<Figure size 432x288 with 1 Axes>"
      ]
     },
     "metadata": {
      "needs_background": "light"
     },
     "output_type": "display_data"
    }
   ],
   "source": [
    "plot = sns.countplot(df[\"Opposition\"])"
   ]
  },
  {
   "cell_type": "code",
   "execution_count": 43,
   "metadata": {
    "scrolled": true
   },
   "outputs": [
    {
     "data": {
      "image/png": "[encoded data removed]",
      "text/plain": [
       "<Figure size 432x288 with 1 Axes>"
      ]
     },
     "metadata": {
      "needs_background": "light"
     },
     "output_type": "display_data"
    }
   ],
   "source": [
    "plot = sns.countplot(df[\"Ground\"])"
   ]
  },
  {
   "cell_type": "code",
   "execution_count": 44,
   "metadata": {
    "scrolled": true
   },
   "outputs": [
    {
     "data": {
      "image/png": "[encoded data removed]",
      "text/plain": [
       "<Figure size 432x288 with 1 Axes>"
      ]
     },
     "metadata": {
      "needs_background": "light"
     },
     "output_type": "display_data"
    }
   ],
   "source": [
    "plot = sns.countplot(df[\"Ground\"], \n",
    "                     hue=df[\"Opposition\"])"
   ]
  },
  {
   "cell_type": "code",
   "execution_count": 45,
   "metadata": {
    "scrolled": true
   },
   "outputs": [
    {
     "data": {
      "image/png": "[encoded data removed]",
      "text/plain": [
       "<Figure size 432x288 with 1 Axes>"
      ]
     },
     "metadata": {
      "needs_background": "light"
     },
     "output_type": "display_data"
    }
   ],
   "source": [
    "plot = sns.barplot(x=df[\"Ground\"], \n",
    "                   y=df[\"Run\"])"
   ]
  },
  {
   "cell_type": "code",
   "execution_count": 46,
   "metadata": {
    "scrolled": true
   },
   "outputs": [
    {
     "data": {
      "image/png": "[encoded data removed]",
      "text/plain": [
       "<Figure size 432x288 with 1 Axes>"
      ]
     },
     "metadata": {
      "needs_background": "light"
     },
     "output_type": "display_data"
    }
   ],
   "source": [
    "plot = sns.barplot(x=df[\"Opposition\"], \n",
    "                   y=df[\"Run\"])"
   ]
  },
  {
   "cell_type": "code",
   "execution_count": 47,
   "metadata": {
    "scrolled": true
   },
   "outputs": [
    {
     "data": {
      "image/png": "[encoded data removed]",
      "text/plain": [
       "<Figure size 432x288 with 1 Axes>"
      ]
     },
     "metadata": {
      "needs_background": "light"
     },
     "output_type": "display_data"
    }
   ],
   "source": [
    "plot = sns.barplot(x=df[\"Opposition\"], \n",
    "                   y=df[\"Wicket\"])"
   ]
  },
  {
   "cell_type": "code",
   "execution_count": 48,
   "metadata": {
    "scrolled": false
   },
   "outputs": [
    {
     "data": {
      "image/png": "[encoded data removed]",
      "text/plain": [
       "<Figure size 432x288 with 1 Axes>"
      ]
     },
     "metadata": {
      "needs_background": "light"
     },
     "output_type": "display_data"
    }
   ],
   "source": [
    "plot = sns.barplot(x=df[\"Ground\"], \n",
    "                   y=df[\"Wicket\"])"
   ]
  },
  {
   "cell_type": "code",
   "execution_count": 50,
   "metadata": {},
   "outputs": [
    {
     "data": {
      "text/plain": [
       "Run             float64\n",
       "Wicket          float64\n",
       "Run_Conceded    float64\n",
       "Catch           float64\n",
       "Opposition       object\n",
       "Ground           object\n",
       "I_ODI           float64\n",
       "dtype: object"
      ]
     },
     "execution_count": 50,
     "metadata": {},
     "output_type": "execute_result"
    }
   ],
   "source": [
    "del df['Date']\n",
    "df.dtypes"
   ]
  },
  {
   "cell_type": "code",
   "execution_count": 53,
   "metadata": {
    "scrolled": true
   },
   "outputs": [
    {
     "data": {
      "text/html": [
       "<div>\n",
       "<style scoped>\n",
       "    .dataframe tbody tr th:only-of-type {\n",
       "        vertical-align: middle;\n",
       "    }\n",
       "\n",
       "    .dataframe tbody tr th {\n",
       "        vertical-align: top;\n",
       "    }\n",
       "\n",
       "    .dataframe thead th {\n",
       "        text-align: right;\n",
       "    }\n",
       "</style>\n",
       "<table border=\"1\" class=\"dataframe\">\n",
       "  <thead>\n",
       "    <tr style=\"text-align: right;\">\n",
       "      <th></th>\n",
       "      <th>Run</th>\n",
       "      <th>Wicket</th>\n",
       "      <th>Run_Conceded</th>\n",
       "      <th>Catch</th>\n",
       "      <th>I_ODI</th>\n",
       "      <th>Ground_0</th>\n",
       "      <th>Ground_1</th>\n",
       "      <th>Opposition_0</th>\n",
       "      <th>Opposition_1</th>\n",
       "      <th>Opposition_2</th>\n",
       "      <th>Opposition_3</th>\n",
       "    </tr>\n",
       "  </thead>\n",
       "  <tbody>\n",
       "    <tr>\n",
       "      <th>0</th>\n",
       "      <td>30.0</td>\n",
       "      <td>1.0</td>\n",
       "      <td>39.0</td>\n",
       "      <td>0.0</td>\n",
       "      <td>2398.0</td>\n",
       "      <td>1</td>\n",
       "      <td>0</td>\n",
       "      <td>1</td>\n",
       "      <td>0</td>\n",
       "      <td>0</td>\n",
       "      <td>0</td>\n",
       "    </tr>\n",
       "    <tr>\n",
       "      <th>1</th>\n",
       "      <td>20.0</td>\n",
       "      <td>2.0</td>\n",
       "      <td>32.0</td>\n",
       "      <td>0.0</td>\n",
       "      <td>2402.0</td>\n",
       "      <td>1</td>\n",
       "      <td>0</td>\n",
       "      <td>0</td>\n",
       "      <td>0</td>\n",
       "      <td>0</td>\n",
       "      <td>1</td>\n",
       "    </tr>\n",
       "    <tr>\n",
       "      <th>2</th>\n",
       "      <td>13.0</td>\n",
       "      <td>1.0</td>\n",
       "      <td>26.0</td>\n",
       "      <td>0.0</td>\n",
       "      <td>2403.0</td>\n",
       "      <td>1</td>\n",
       "      <td>0</td>\n",
       "      <td>0</td>\n",
       "      <td>0</td>\n",
       "      <td>0</td>\n",
       "      <td>1</td>\n",
       "    </tr>\n",
       "    <tr>\n",
       "      <th>3</th>\n",
       "      <td>25.0</td>\n",
       "      <td>0.0</td>\n",
       "      <td>28.0</td>\n",
       "      <td>0.0</td>\n",
       "      <td>2404.0</td>\n",
       "      <td>1</td>\n",
       "      <td>0</td>\n",
       "      <td>0</td>\n",
       "      <td>0</td>\n",
       "      <td>0</td>\n",
       "      <td>1</td>\n",
       "    </tr>\n",
       "    <tr>\n",
       "      <th>4</th>\n",
       "      <td>67.0</td>\n",
       "      <td>0.0</td>\n",
       "      <td>23.0</td>\n",
       "      <td>0.0</td>\n",
       "      <td>2423.0</td>\n",
       "      <td>1</td>\n",
       "      <td>0</td>\n",
       "      <td>0</td>\n",
       "      <td>0</td>\n",
       "      <td>1</td>\n",
       "      <td>0</td>\n",
       "    </tr>\n",
       "    <tr>\n",
       "      <th>...</th>\n",
       "      <td>...</td>\n",
       "      <td>...</td>\n",
       "      <td>...</td>\n",
       "      <td>...</td>\n",
       "      <td>...</td>\n",
       "      <td>...</td>\n",
       "      <td>...</td>\n",
       "      <td>...</td>\n",
       "      <td>...</td>\n",
       "      <td>...</td>\n",
       "      <td>...</td>\n",
       "    </tr>\n",
       "    <tr>\n",
       "      <th>201</th>\n",
       "      <td>25.0</td>\n",
       "      <td>2.0</td>\n",
       "      <td>54.0</td>\n",
       "      <td>0.0</td>\n",
       "      <td>4162.0</td>\n",
       "      <td>1</td>\n",
       "      <td>0</td>\n",
       "      <td>0</td>\n",
       "      <td>0</td>\n",
       "      <td>1</td>\n",
       "      <td>0</td>\n",
       "    </tr>\n",
       "    <tr>\n",
       "      <th>202</th>\n",
       "      <td>41.0</td>\n",
       "      <td>0.0</td>\n",
       "      <td>50.0</td>\n",
       "      <td>0.0</td>\n",
       "      <td>4166.0</td>\n",
       "      <td>1</td>\n",
       "      <td>0</td>\n",
       "      <td>0</td>\n",
       "      <td>0</td>\n",
       "      <td>1</td>\n",
       "      <td>0</td>\n",
       "    </tr>\n",
       "    <tr>\n",
       "      <th>203</th>\n",
       "      <td>51.0</td>\n",
       "      <td>5.0</td>\n",
       "      <td>29.0</td>\n",
       "      <td>0.0</td>\n",
       "      <td>4172.0</td>\n",
       "      <td>1</td>\n",
       "      <td>0</td>\n",
       "      <td>1</td>\n",
       "      <td>0</td>\n",
       "      <td>0</td>\n",
       "      <td>0</td>\n",
       "    </tr>\n",
       "    <tr>\n",
       "      <th>204</th>\n",
       "      <td>66.0</td>\n",
       "      <td>1.0</td>\n",
       "      <td>41.0</td>\n",
       "      <td>0.0</td>\n",
       "      <td>4182.0</td>\n",
       "      <td>1</td>\n",
       "      <td>0</td>\n",
       "      <td>0</td>\n",
       "      <td>1</td>\n",
       "      <td>0</td>\n",
       "      <td>0</td>\n",
       "    </tr>\n",
       "    <tr>\n",
       "      <th>205</th>\n",
       "      <td>64.0</td>\n",
       "      <td>0.0</td>\n",
       "      <td>57.0</td>\n",
       "      <td>0.0</td>\n",
       "      <td>4186.0</td>\n",
       "      <td>1</td>\n",
       "      <td>0</td>\n",
       "      <td>0</td>\n",
       "      <td>0</td>\n",
       "      <td>1</td>\n",
       "      <td>0</td>\n",
       "    </tr>\n",
       "  </tbody>\n",
       "</table>\n",
       "<p>206 rows × 11 columns</p>\n",
       "</div>"
      ],
      "text/plain": [
       "      Run  Wicket  Run_Conceded  Catch   I_ODI  Ground_0  Ground_1  \\\n",
       "0    30.0     1.0          39.0    0.0  2398.0         1         0   \n",
       "1    20.0     2.0          32.0    0.0  2402.0         1         0   \n",
       "2    13.0     1.0          26.0    0.0  2403.0         1         0   \n",
       "3    25.0     0.0          28.0    0.0  2404.0         1         0   \n",
       "4    67.0     0.0          23.0    0.0  2423.0         1         0   \n",
       "..    ...     ...           ...    ...     ...       ...       ...   \n",
       "201  25.0     2.0          54.0    0.0  4162.0         1         0   \n",
       "202  41.0     0.0          50.0    0.0  4166.0         1         0   \n",
       "203  51.0     5.0          29.0    0.0  4172.0         1         0   \n",
       "204  66.0     1.0          41.0    0.0  4182.0         1         0   \n",
       "205  64.0     0.0          57.0    0.0  4186.0         1         0   \n",
       "\n",
       "     Opposition_0  Opposition_1  Opposition_2  Opposition_3  \n",
       "0               1             0             0             0  \n",
       "1               0             0             0             1  \n",
       "2               0             0             0             1  \n",
       "3               0             0             0             1  \n",
       "4               0             0             1             0  \n",
       "..            ...           ...           ...           ...  \n",
       "201             0             0             1             0  \n",
       "202             0             0             1             0  \n",
       "203             1             0             0             0  \n",
       "204             0             1             0             0  \n",
       "205             0             0             1             0  \n",
       "\n",
       "[206 rows x 11 columns]"
      ]
     },
     "execution_count": 53,
     "metadata": {},
     "output_type": "execute_result"
    }
   ],
   "source": [
    "data = pd.get_dummies(df, columns=cat_cols, prefix=cat_cols)\n",
    "data"
   ]
  },
  {
   "cell_type": "code",
   "execution_count": 57,
   "metadata": {
    "scrolled": true
   },
   "outputs": [
    {
     "data": {
      "image/png": "[encoded data removed]",
      "text/plain": [
       "<Figure size 432x288 with 1 Axes>"
      ]
     },
     "metadata": {
      "needs_background": "light"
     },
     "output_type": "display_data"
    }
   ],
   "source": [
    "plot = sns.distplot(data['Run'])"
   ]
  },
  {
   "cell_type": "code",
   "execution_count": 74,
   "metadata": {
    "scrolled": true
   },
   "outputs": [
    {
     "data": {
      "image/png": "[encoded data removed]",
      "text/plain": [
       "<Figure size 432x288 with 1 Axes>"
      ]
     },
     "metadata": {
      "needs_background": "light"
     },
     "output_type": "display_data"
    }
   ],
   "source": [
    "plot = sns.boxplot(data['Run'])"
   ]
  },
  {
   "cell_type": "code",
   "execution_count": 58,
   "metadata": {},
   "outputs": [],
   "source": [
    "from sklearn.model_selection import train_test_split\n",
    "\n",
    "X = data.loc[:, data.columns!='Run']\n",
    "y = data.loc[:, data.columns=='Run']\n",
    "\n",
    "X_train, X_test, y_train, y_test = train_test_split(X, y, test_size=0.20, random_state=1234)"
   ]
  },
  {
   "cell_type": "code",
   "execution_count": 59,
   "metadata": {
    "scrolled": true
   },
   "outputs": [
    {
     "name": "stdout",
     "output_type": "stream",
     "text": [
      "X_train:(164, 10)\n",
      "y_train:(164, 1)\n",
      "X_test: (42, 10)\n",
      "y_test: (42, 1)\n"
     ]
    }
   ],
   "source": [
    "print(\"\"\"X_train:{}\n",
    "y_train:{}\n",
    "X_test: {}\n",
    "y_test: {}\"\"\".format(X_train.shape, y_train.shape, X_test.shape, y_test.shape))"
   ]
  },
  {
   "cell_type": "code",
   "execution_count": 63,
   "metadata": {},
   "outputs": [
    {
     "data": {
      "text/plain": [
       "array([8.25506457])"
      ]
     },
     "execution_count": 63,
     "metadata": {},
     "output_type": "execute_result"
    }
   ],
   "source": [
    "from sklearn.linear_model import LinearRegression\n",
    "slr = LinearRegression()\n",
    "slr.fit(X_train, y_train)\n",
    "slr.coef_\n",
    "slr.intercept_"
   ]
  },
  {
   "cell_type": "code",
   "execution_count": 68,
   "metadata": {
    "scrolled": true
   },
   "outputs": [
    {
     "data": {
      "text/html": [
       "<div>\n",
       "<style scoped>\n",
       "    .dataframe tbody tr th:only-of-type {\n",
       "        vertical-align: middle;\n",
       "    }\n",
       "\n",
       "    .dataframe tbody tr th {\n",
       "        vertical-align: top;\n",
       "    }\n",
       "\n",
       "    .dataframe thead th {\n",
       "        text-align: right;\n",
       "    }\n",
       "</style>\n",
       "<table border=\"1\" class=\"dataframe\">\n",
       "  <thead>\n",
       "    <tr style=\"text-align: right;\">\n",
       "      <th></th>\n",
       "      <th>true</th>\n",
       "      <th>pred</th>\n",
       "    </tr>\n",
       "  </thead>\n",
       "  <tbody>\n",
       "    <tr>\n",
       "      <th>0</th>\n",
       "      <td>0.0</td>\n",
       "      <td>26.872891</td>\n",
       "    </tr>\n",
       "    <tr>\n",
       "      <th>1</th>\n",
       "      <td>104.0</td>\n",
       "      <td>25.392697</td>\n",
       "    </tr>\n",
       "    <tr>\n",
       "      <th>2</th>\n",
       "      <td>36.0</td>\n",
       "      <td>21.089516</td>\n",
       "    </tr>\n",
       "    <tr>\n",
       "      <th>3</th>\n",
       "      <td>6.0</td>\n",
       "      <td>30.189483</td>\n",
       "    </tr>\n",
       "    <tr>\n",
       "      <th>4</th>\n",
       "      <td>51.0</td>\n",
       "      <td>22.537759</td>\n",
       "    </tr>\n",
       "    <tr>\n",
       "      <th>5</th>\n",
       "      <td>52.0</td>\n",
       "      <td>27.794373</td>\n",
       "    </tr>\n",
       "    <tr>\n",
       "      <th>6</th>\n",
       "      <td>10.0</td>\n",
       "      <td>28.893124</td>\n",
       "    </tr>\n",
       "    <tr>\n",
       "      <th>7</th>\n",
       "      <td>8.0</td>\n",
       "      <td>31.131444</td>\n",
       "    </tr>\n",
       "    <tr>\n",
       "      <th>8</th>\n",
       "      <td>17.0</td>\n",
       "      <td>32.040107</td>\n",
       "    </tr>\n",
       "    <tr>\n",
       "      <th>9</th>\n",
       "      <td>26.0</td>\n",
       "      <td>24.045311</td>\n",
       "    </tr>\n",
       "    <tr>\n",
       "      <th>10</th>\n",
       "      <td>0.0</td>\n",
       "      <td>37.738275</td>\n",
       "    </tr>\n",
       "    <tr>\n",
       "      <th>11</th>\n",
       "      <td>25.0</td>\n",
       "      <td>37.541022</td>\n",
       "    </tr>\n",
       "    <tr>\n",
       "      <th>12</th>\n",
       "      <td>25.0</td>\n",
       "      <td>22.792696</td>\n",
       "    </tr>\n",
       "    <tr>\n",
       "      <th>13</th>\n",
       "      <td>97.0</td>\n",
       "      <td>38.654595</td>\n",
       "    </tr>\n",
       "    <tr>\n",
       "      <th>14</th>\n",
       "      <td>4.0</td>\n",
       "      <td>29.976887</td>\n",
       "    </tr>\n",
       "    <tr>\n",
       "      <th>15</th>\n",
       "      <td>51.0</td>\n",
       "      <td>28.455021</td>\n",
       "    </tr>\n",
       "    <tr>\n",
       "      <th>16</th>\n",
       "      <td>50.0</td>\n",
       "      <td>21.602847</td>\n",
       "    </tr>\n",
       "    <tr>\n",
       "      <th>17</th>\n",
       "      <td>9.0</td>\n",
       "      <td>29.638678</td>\n",
       "    </tr>\n",
       "    <tr>\n",
       "      <th>18</th>\n",
       "      <td>101.0</td>\n",
       "      <td>29.658405</td>\n",
       "    </tr>\n",
       "    <tr>\n",
       "      <th>19</th>\n",
       "      <td>51.0</td>\n",
       "      <td>33.196734</td>\n",
       "    </tr>\n",
       "    <tr>\n",
       "      <th>20</th>\n",
       "      <td>25.0</td>\n",
       "      <td>25.550188</td>\n",
       "    </tr>\n",
       "    <tr>\n",
       "      <th>21</th>\n",
       "      <td>8.0</td>\n",
       "      <td>36.961618</td>\n",
       "    </tr>\n",
       "    <tr>\n",
       "      <th>22</th>\n",
       "      <td>59.0</td>\n",
       "      <td>29.955179</td>\n",
       "    </tr>\n",
       "    <tr>\n",
       "      <th>23</th>\n",
       "      <td>15.0</td>\n",
       "      <td>30.560683</td>\n",
       "    </tr>\n",
       "    <tr>\n",
       "      <th>24</th>\n",
       "      <td>0.0</td>\n",
       "      <td>30.151192</td>\n",
       "    </tr>\n",
       "    <tr>\n",
       "      <th>25</th>\n",
       "      <td>0.0</td>\n",
       "      <td>30.512089</td>\n",
       "    </tr>\n",
       "    <tr>\n",
       "      <th>26</th>\n",
       "      <td>55.0</td>\n",
       "      <td>26.200770</td>\n",
       "    </tr>\n",
       "    <tr>\n",
       "      <th>27</th>\n",
       "      <td>15.0</td>\n",
       "      <td>23.552321</td>\n",
       "    </tr>\n",
       "    <tr>\n",
       "      <th>28</th>\n",
       "      <td>40.0</td>\n",
       "      <td>29.402325</td>\n",
       "    </tr>\n",
       "    <tr>\n",
       "      <th>29</th>\n",
       "      <td>63.0</td>\n",
       "      <td>30.912730</td>\n",
       "    </tr>\n",
       "    <tr>\n",
       "      <th>30</th>\n",
       "      <td>63.0</td>\n",
       "      <td>30.229696</td>\n",
       "    </tr>\n",
       "    <tr>\n",
       "      <th>31</th>\n",
       "      <td>36.0</td>\n",
       "      <td>24.139134</td>\n",
       "    </tr>\n",
       "    <tr>\n",
       "      <th>32</th>\n",
       "      <td>25.0</td>\n",
       "      <td>25.077656</td>\n",
       "    </tr>\n",
       "    <tr>\n",
       "      <th>33</th>\n",
       "      <td>51.0</td>\n",
       "      <td>32.025320</td>\n",
       "    </tr>\n",
       "    <tr>\n",
       "      <th>34</th>\n",
       "      <td>25.0</td>\n",
       "      <td>27.533139</td>\n",
       "    </tr>\n",
       "    <tr>\n",
       "      <th>35</th>\n",
       "      <td>58.0</td>\n",
       "      <td>23.787186</td>\n",
       "    </tr>\n",
       "    <tr>\n",
       "      <th>36</th>\n",
       "      <td>65.0</td>\n",
       "      <td>38.654002</td>\n",
       "    </tr>\n",
       "    <tr>\n",
       "      <th>37</th>\n",
       "      <td>47.0</td>\n",
       "      <td>31.487214</td>\n",
       "    </tr>\n",
       "    <tr>\n",
       "      <th>38</th>\n",
       "      <td>14.0</td>\n",
       "      <td>23.060905</td>\n",
       "    </tr>\n",
       "    <tr>\n",
       "      <th>39</th>\n",
       "      <td>25.0</td>\n",
       "      <td>38.518894</td>\n",
       "    </tr>\n",
       "    <tr>\n",
       "      <th>40</th>\n",
       "      <td>3.0</td>\n",
       "      <td>29.929984</td>\n",
       "    </tr>\n",
       "    <tr>\n",
       "      <th>41</th>\n",
       "      <td>68.0</td>\n",
       "      <td>33.573228</td>\n",
       "    </tr>\n",
       "  </tbody>\n",
       "</table>\n",
       "</div>"
      ],
      "text/plain": [
       "     true       pred\n",
       "0     0.0  26.872891\n",
       "1   104.0  25.392697\n",
       "2    36.0  21.089516\n",
       "3     6.0  30.189483\n",
       "4    51.0  22.537759\n",
       "5    52.0  27.794373\n",
       "6    10.0  28.893124\n",
       "7     8.0  31.131444\n",
       "8    17.0  32.040107\n",
       "9    26.0  24.045311\n",
       "10    0.0  37.738275\n",
       "11   25.0  37.541022\n",
       "12   25.0  22.792696\n",
       "13   97.0  38.654595\n",
       "14    4.0  29.976887\n",
       "15   51.0  28.455021\n",
       "16   50.0  21.602847\n",
       "17    9.0  29.638678\n",
       "18  101.0  29.658405\n",
       "19   51.0  33.196734\n",
       "20   25.0  25.550188\n",
       "21    8.0  36.961618\n",
       "22   59.0  29.955179\n",
       "23   15.0  30.560683\n",
       "24    0.0  30.151192\n",
       "25    0.0  30.512089\n",
       "26   55.0  26.200770\n",
       "27   15.0  23.552321\n",
       "28   40.0  29.402325\n",
       "29   63.0  30.912730\n",
       "30   63.0  30.229696\n",
       "31   36.0  24.139134\n",
       "32   25.0  25.077656\n",
       "33   51.0  32.025320\n",
       "34   25.0  27.533139\n",
       "35   58.0  23.787186\n",
       "36   65.0  38.654002\n",
       "37   47.0  31.487214\n",
       "38   14.0  23.060905\n",
       "39   25.0  38.518894\n",
       "40    3.0  29.929984\n",
       "41   68.0  33.573228"
      ]
     },
     "execution_count": 68,
     "metadata": {},
     "output_type": "execute_result"
    }
   ],
   "source": [
    "y_pred = slr.predict(X_test)\n",
    "pd.DataFrame({'true': y_test.values.ravel(), \n",
    "             'pred': y_pred.ravel()})"
   ]
  },
  {
   "cell_type": "code",
   "execution_count": 69,
   "metadata": {},
   "outputs": [
    {
     "name": "stdout",
     "output_type": "stream",
     "text": [
      "The R^2 score is -0.06935658028965719\n"
     ]
    }
   ],
   "source": [
    "from sklearn.metrics import r2_score\n",
    "\n",
    "r2 = r2_score(y_test, y_pred)\n",
    "print(\"The R^2 score is {}\".format(r2))"
   ]
  },
  {
   "cell_type": "code",
   "execution_count": 79,
   "metadata": {},
   "outputs": [
    {
     "data": {
      "text/html": [
       "<div>\n",
       "<style scoped>\n",
       "    .dataframe tbody tr th:only-of-type {\n",
       "        vertical-align: middle;\n",
       "    }\n",
       "\n",
       "    .dataframe tbody tr th {\n",
       "        vertical-align: top;\n",
       "    }\n",
       "\n",
       "    .dataframe thead th {\n",
       "        text-align: right;\n",
       "    }\n",
       "</style>\n",
       "<table border=\"1\" class=\"dataframe\">\n",
       "  <thead>\n",
       "    <tr style=\"text-align: right;\">\n",
       "      <th></th>\n",
       "      <th>Run</th>\n",
       "      <th>Wicket</th>\n",
       "      <th>Run_Conceded</th>\n",
       "      <th>Catch</th>\n",
       "      <th>I_ODI</th>\n",
       "      <th>Ground_0</th>\n",
       "      <th>Ground_1</th>\n",
       "      <th>Opposition_0</th>\n",
       "      <th>Opposition_1</th>\n",
       "      <th>Opposition_2</th>\n",
       "      <th>Opposition_3</th>\n",
       "    </tr>\n",
       "  </thead>\n",
       "  <tbody>\n",
       "    <tr>\n",
       "      <th>0</th>\n",
       "      <td>30.0</td>\n",
       "      <td>1.0</td>\n",
       "      <td>39.0</td>\n",
       "      <td>0.0</td>\n",
       "      <td>2398.0</td>\n",
       "      <td>1</td>\n",
       "      <td>0</td>\n",
       "      <td>1</td>\n",
       "      <td>0</td>\n",
       "      <td>0</td>\n",
       "      <td>0</td>\n",
       "    </tr>\n",
       "    <tr>\n",
       "      <th>1</th>\n",
       "      <td>20.0</td>\n",
       "      <td>2.0</td>\n",
       "      <td>32.0</td>\n",
       "      <td>0.0</td>\n",
       "      <td>2402.0</td>\n",
       "      <td>1</td>\n",
       "      <td>0</td>\n",
       "      <td>0</td>\n",
       "      <td>0</td>\n",
       "      <td>0</td>\n",
       "      <td>1</td>\n",
       "    </tr>\n",
       "    <tr>\n",
       "      <th>2</th>\n",
       "      <td>13.0</td>\n",
       "      <td>1.0</td>\n",
       "      <td>26.0</td>\n",
       "      <td>0.0</td>\n",
       "      <td>2403.0</td>\n",
       "      <td>1</td>\n",
       "      <td>0</td>\n",
       "      <td>0</td>\n",
       "      <td>0</td>\n",
       "      <td>0</td>\n",
       "      <td>1</td>\n",
       "    </tr>\n",
       "    <tr>\n",
       "      <th>3</th>\n",
       "      <td>25.0</td>\n",
       "      <td>0.0</td>\n",
       "      <td>28.0</td>\n",
       "      <td>0.0</td>\n",
       "      <td>2404.0</td>\n",
       "      <td>1</td>\n",
       "      <td>0</td>\n",
       "      <td>0</td>\n",
       "      <td>0</td>\n",
       "      <td>0</td>\n",
       "      <td>1</td>\n",
       "    </tr>\n",
       "    <tr>\n",
       "      <th>4</th>\n",
       "      <td>67.0</td>\n",
       "      <td>0.0</td>\n",
       "      <td>23.0</td>\n",
       "      <td>0.0</td>\n",
       "      <td>2423.0</td>\n",
       "      <td>1</td>\n",
       "      <td>0</td>\n",
       "      <td>0</td>\n",
       "      <td>0</td>\n",
       "      <td>1</td>\n",
       "      <td>0</td>\n",
       "    </tr>\n",
       "  </tbody>\n",
       "</table>\n",
       "</div>"
      ],
      "text/plain": [
       "    Run  Wicket  Run_Conceded  Catch   I_ODI  Ground_0  Ground_1  \\\n",
       "0  30.0     1.0          39.0    0.0  2398.0         1         0   \n",
       "1  20.0     2.0          32.0    0.0  2402.0         1         0   \n",
       "2  13.0     1.0          26.0    0.0  2403.0         1         0   \n",
       "3  25.0     0.0          28.0    0.0  2404.0         1         0   \n",
       "4  67.0     0.0          23.0    0.0  2423.0         1         0   \n",
       "\n",
       "   Opposition_0  Opposition_1  Opposition_2  Opposition_3  \n",
       "0             1             0             0             0  \n",
       "1             0             0             0             1  \n",
       "2             0             0             0             1  \n",
       "3             0             0             0             1  \n",
       "4             0             0             1             0  "
      ]
     },
     "execution_count": 79,
     "metadata": {},
     "output_type": "execute_result"
    }
   ],
   "source": [
    "data.head()\n"
   ]
  },
  {
   "cell_type": "code",
   "execution_count": 80,
   "metadata": {},
   "outputs": [],
   "source": [
    "from sklearn.preprocessing import PolynomialFeatures\n",
    "\n",
    "poly_reg = PolynomialFeatures(degree=2)\n",
    "\n",
    "X_poly = poly_reg.fit_transform(X)"
   ]
  },
  {
   "cell_type": "code",
   "execution_count": 82,
   "metadata": {
    "scrolled": true
   },
   "outputs": [
    {
     "data": {
      "text/plain": [
       "LinearRegression(copy_X=True, fit_intercept=True, n_jobs=None, normalize=False)"
      ]
     },
     "execution_count": 82,
     "metadata": {},
     "output_type": "execute_result"
    }
   ],
   "source": [
    "X_train, X_test, y_train, y_test = train_test_split(X_poly, y, test_size=0.20, random_state=1234)\n",
    "preg = LinearRegression()\n",
    "preg.fit(X_train, y_train)"
   ]
  },
  {
   "cell_type": "code",
   "execution_count": 84,
   "metadata": {},
   "outputs": [
    {
     "name": "stdout",
     "output_type": "stream",
     "text": [
      "The R^2 score is -0.1871150334379621\n"
     ]
    }
   ],
   "source": [
    "y_pred = preg.predict(X_test)\n",
    "r2 = r2_score(y_test, y_pred)\n",
    "print(\"The R^2 score is {}\".format(r2))"
   ]
  }
 ],
 "metadata": {
  "kernelspec": {
   "display_name": "Python 3",
   "language": "python",
   "name": "python3"
  },
  "language_info": {
   "codemirror_mode": {
    "name": "ipython",
    "version": 3
   },
   "file_extension": ".py",
   "mimetype": "text/x-python",
   "name": "python",
   "nbconvert_exporter": "python",
   "pygments_lexer": "ipython3",
   "version": "3.7.6"
  }
 },
 "nbformat": 4,
 "nbformat_minor": 4
}
